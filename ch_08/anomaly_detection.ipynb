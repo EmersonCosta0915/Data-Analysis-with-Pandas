{
 "cells": [
  {
   "cell_type": "markdown",
   "metadata": {},
   "source": [
    "# Catching Hackers"
   ]
  },
  {
   "cell_type": "markdown",
   "metadata": {},
   "source": [
    "## Setup"
   ]
  },
  {
   "cell_type": "code",
   "execution_count": 1,
   "metadata": {},
   "outputs": [
    {
     "data": {
      "text/plain": [
       "((65, 3), (15023, 4))"
      ]
     },
     "execution_count": 1,
     "metadata": {},
     "output_type": "execute_result"
    }
   ],
   "source": [
    "%matplotlib inline\n",
    "import matplotlib.pyplot as plt\n",
    "import numpy as np\n",
    "import pandas as pd\n",
    "import seaborn as sns\n",
    "\n",
    "log = pd.read_csv('logs/log.csv', index_col='datetime', parse_dates=True)\n",
    "attacks = pd.read_csv('logs/attacks.csv', parse_dates=True)\n",
    "\n",
    "attacks.shape, log.shape"
   ]
  },
  {
   "cell_type": "markdown",
   "metadata": {},
   "source": [
    "## Understanding the Data"
   ]
  },
  {
   "cell_type": "code",
   "execution_count": 2,
   "metadata": {},
   "outputs": [
    {
     "data": {
      "text/html": [
       "<div>\n",
       "<style scoped>\n",
       "    .dataframe tbody tr th:only-of-type {\n",
       "        vertical-align: middle;\n",
       "    }\n",
       "\n",
       "    .dataframe tbody tr th {\n",
       "        vertical-align: top;\n",
       "    }\n",
       "\n",
       "    .dataframe thead th {\n",
       "        text-align: right;\n",
       "    }\n",
       "</style>\n",
       "<table border=\"1\" class=\"dataframe\">\n",
       "  <thead>\n",
       "    <tr style=\"text-align: right;\">\n",
       "      <th></th>\n",
       "      <th>source_ip</th>\n",
       "      <th>username</th>\n",
       "      <th>success</th>\n",
       "      <th>failure_reason</th>\n",
       "    </tr>\n",
       "    <tr>\n",
       "      <th>datetime</th>\n",
       "      <th></th>\n",
       "      <th></th>\n",
       "      <th></th>\n",
       "      <th></th>\n",
       "    </tr>\n",
       "  </thead>\n",
       "  <tbody>\n",
       "    <tr>\n",
       "      <th>2019-02-01 07:04:35.555010</th>\n",
       "      <td>26.32.56.22</td>\n",
       "      <td>xkim</td>\n",
       "      <td>True</td>\n",
       "      <td>NaN</td>\n",
       "    </tr>\n",
       "    <tr>\n",
       "      <th>2019-02-01 08:17:56.308979</th>\n",
       "      <td>37.76.79.196</td>\n",
       "      <td>smith</td>\n",
       "      <td>False</td>\n",
       "      <td>error_wrong_username</td>\n",
       "    </tr>\n",
       "    <tr>\n",
       "      <th>2019-02-01 08:17:57.308979</th>\n",
       "      <td>37.76.79.196</td>\n",
       "      <td>osmith</td>\n",
       "      <td>True</td>\n",
       "      <td>NaN</td>\n",
       "    </tr>\n",
       "    <tr>\n",
       "      <th>2019-02-01 08:35:53.617958</th>\n",
       "      <td>37.76.79.196</td>\n",
       "      <td>osmith</td>\n",
       "      <td>False</td>\n",
       "      <td>error_wrong_password</td>\n",
       "    </tr>\n",
       "    <tr>\n",
       "      <th>2019-02-01 08:35:54.617958</th>\n",
       "      <td>37.76.79.196</td>\n",
       "      <td>osmith</td>\n",
       "      <td>True</td>\n",
       "      <td>NaN</td>\n",
       "    </tr>\n",
       "  </tbody>\n",
       "</table>\n",
       "</div>"
      ],
      "text/plain": [
       "                               source_ip username  success  \\\n",
       "datetime                                                     \n",
       "2019-02-01 07:04:35.555010   26.32.56.22     xkim     True   \n",
       "2019-02-01 08:17:56.308979  37.76.79.196    smith    False   \n",
       "2019-02-01 08:17:57.308979  37.76.79.196   osmith     True   \n",
       "2019-02-01 08:35:53.617958  37.76.79.196   osmith    False   \n",
       "2019-02-01 08:35:54.617958  37.76.79.196   osmith     True   \n",
       "\n",
       "                                  failure_reason  \n",
       "datetime                                          \n",
       "2019-02-01 07:04:35.555010                   NaN  \n",
       "2019-02-01 08:17:56.308979  error_wrong_username  \n",
       "2019-02-01 08:17:57.308979                   NaN  \n",
       "2019-02-01 08:35:53.617958  error_wrong_password  \n",
       "2019-02-01 08:35:54.617958                   NaN  "
      ]
     },
     "execution_count": 2,
     "metadata": {},
     "output_type": "execute_result"
    }
   ],
   "source": [
    "log.head()"
   ]
  },
  {
   "cell_type": "code",
   "execution_count": 3,
   "metadata": {},
   "outputs": [
    {
     "data": {
      "text/html": [
       "<div>\n",
       "<style scoped>\n",
       "    .dataframe tbody tr th:only-of-type {\n",
       "        vertical-align: middle;\n",
       "    }\n",
       "\n",
       "    .dataframe tbody tr th {\n",
       "        vertical-align: top;\n",
       "    }\n",
       "\n",
       "    .dataframe thead th {\n",
       "        text-align: right;\n",
       "    }\n",
       "</style>\n",
       "<table border=\"1\" class=\"dataframe\">\n",
       "  <thead>\n",
       "    <tr style=\"text-align: right;\">\n",
       "      <th></th>\n",
       "      <th>start</th>\n",
       "      <th>end</th>\n",
       "      <th>source_ip</th>\n",
       "    </tr>\n",
       "  </thead>\n",
       "  <tbody>\n",
       "    <tr>\n",
       "      <th>0</th>\n",
       "      <td>2019-02-01 13:43:56.246216</td>\n",
       "      <td>2019-02-01 13:48:05.246216</td>\n",
       "      <td>57.23.27.70</td>\n",
       "    </tr>\n",
       "    <tr>\n",
       "      <th>1</th>\n",
       "      <td>2019-02-02 21:53:15.373329</td>\n",
       "      <td>2019-02-02 21:54:30.373329</td>\n",
       "      <td>42.145.51.178</td>\n",
       "    </tr>\n",
       "    <tr>\n",
       "      <th>2</th>\n",
       "      <td>2019-02-03 07:43:31.329137</td>\n",
       "      <td>2019-02-03 07:47:42.329137</td>\n",
       "      <td>167.30.7.153</td>\n",
       "    </tr>\n",
       "    <tr>\n",
       "      <th>3</th>\n",
       "      <td>2019-02-03 12:25:02.566366</td>\n",
       "      <td>2019-02-03 12:29:17.566366</td>\n",
       "      <td>38.123.57.42</td>\n",
       "    </tr>\n",
       "    <tr>\n",
       "      <th>4</th>\n",
       "      <td>2019-02-03 14:46:41.583987</td>\n",
       "      <td>2019-02-03 14:50:47.583987</td>\n",
       "      <td>77.223.117.145</td>\n",
       "    </tr>\n",
       "  </tbody>\n",
       "</table>\n",
       "</div>"
      ],
      "text/plain": [
       "                        start                         end       source_ip\n",
       "0  2019-02-01 13:43:56.246216  2019-02-01 13:48:05.246216     57.23.27.70\n",
       "1  2019-02-02 21:53:15.373329  2019-02-02 21:54:30.373329   42.145.51.178\n",
       "2  2019-02-03 07:43:31.329137  2019-02-03 07:47:42.329137    167.30.7.153\n",
       "3  2019-02-03 12:25:02.566366  2019-02-03 12:29:17.566366    38.123.57.42\n",
       "4  2019-02-03 14:46:41.583987  2019-02-03 14:50:47.583987  77.223.117.145"
      ]
     },
     "execution_count": 3,
     "metadata": {},
     "output_type": "execute_result"
    }
   ],
   "source": [
    "attacks.head()"
   ]
  },
  {
   "cell_type": "code",
   "execution_count": 4,
   "metadata": {},
   "outputs": [
    {
     "data": {
      "text/plain": [
       "Text(0.5, 0.98, 'Unique IP addresses seen in a given hour across time period')"
      ]
     },
     "execution_count": 4,
     "metadata": {},
     "output_type": "execute_result"
    },
    {
     "data": {
      "image/png": "[encoded data removed]",
      "text/plain": [
       "<Figure size 432x288 with 1 Axes>"
      ]
     },
     "metadata": {
      "needs_background": "light"
     },
     "output_type": "display_data"
    }
   ],
   "source": [
    "log.assign(hour=lambda x: x.index.hour).groupby('hour').agg({'source_ip':'nunique'}).hist()\n",
    "plt.suptitle('Unique IP addresses seen in a given hour across time period')"
   ]
  },
  {
   "cell_type": "markdown",
   "metadata": {},
   "source": [
    "## EDA"
   ]
  },
  {
   "cell_type": "code",
   "execution_count": 5,
   "metadata": {},
   "outputs": [
    {
     "data": {
      "text/plain": [
       "<matplotlib.axes._subplots.AxesSubplot at 0x1bf0e0b0>"
      ]
     },
     "execution_count": 5,
     "metadata": {},
     "output_type": "execute_result"
    },
    {
     "data": {
      "image/png": "[encoded data removed]",
      "text/plain": [
       "<Figure size 1080x360 with 1 Axes>"
      ]
     },
     "metadata": {
      "needs_background": "light"
     },
     "output_type": "display_data"
    }
   ],
   "source": [
    "# attempts over time\n",
    "log.assign(attempts=1).attempts.resample('1H').sum().plot(\n",
    "    figsize=(15, 5), title='hourly attempts'\n",
    ")"
   ]
  },
  {
   "cell_type": "code",
   "execution_count": 6,
   "metadata": {},
   "outputs": [
    {
     "data": {
      "text/plain": [
       "count    285.000000\n",
       "mean      52.712281\n",
       "std       88.652757\n",
       "min        1.000000\n",
       "25%        5.000000\n",
       "50%       10.000000\n",
       "75%       30.000000\n",
       "max      258.000000\n",
       "Name: source_ip, dtype: float64"
      ]
     },
     "execution_count": 6,
     "metadata": {},
     "output_type": "execute_result"
    }
   ],
   "source": [
    "log.source_ip.value_counts().describe()"
   ]
  },
  {
   "cell_type": "code",
   "execution_count": 7,
   "metadata": {},
   "outputs": [
    {
     "data": {
      "text/plain": [
       "Text(0.5, 0.98, 'Attempts per IP Address')"
      ]
     },
     "execution_count": 7,
     "metadata": {},
     "output_type": "execute_result"
    },
    {
     "data": {
      "image/png": "[encoded data removed]",
      "text/plain": [
       "<Figure size 1080x360 with 2 Axes>"
      ]
     },
     "metadata": {
      "needs_background": "light"
     },
     "output_type": "display_data"
    }
   ],
   "source": [
    "fig, axes = plt.subplots(1, 2, figsize=(15, 5))\n",
    "log.source_ip.value_counts().plot(kind='box', ax=axes[0])\n",
    "log.source_ip.value_counts().plot(kind='hist', bins=50, ax=axes[1])\n",
    "fig.suptitle('Attempts per IP Address')"
   ]
  },
  {
   "cell_type": "markdown",
   "metadata": {},
   "source": [
    "What percent of the top IP addresses are hackers?"
   ]
  },
  {
   "cell_type": "code",
   "execution_count": 8,
   "metadata": {},
   "outputs": [
    {
     "data": {
      "text/plain": [
       "0.9076923076923077"
      ]
     },
     "execution_count": 8,
     "metadata": {},
     "output_type": "execute_result"
    }
   ],
   "source": [
    "num_hackers = attacks.source_ip.shape[0]\n",
    "log.source_ip.value_counts().index[:num_hackers]\\\n",
    "    .isin(attacks.source_ip).sum() / num_hackers"
   ]
  },
  {
   "cell_type": "code",
   "execution_count": 9,
   "metadata": {},
   "outputs": [
    {
     "data": {
      "text/plain": [
       "<matplotlib.axes._subplots.AxesSubplot at 0x1d19a970>"
      ]
     },
     "execution_count": 9,
     "metadata": {},
     "output_type": "execute_result"
    },
    {
     "data": {
      "image/png": "[encoded data removed]",
      "text/plain": [
       "<Figure size 1080x360 with 1 Axes>"
      ]
     },
     "metadata": {
      "needs_background": "light"
     },
     "output_type": "display_data"
    }
   ],
   "source": [
    "# attempts per ip address\n",
    "log.assign(attempts=1).groupby('source_ip').attempts\\\n",
    "    .resample('1H').sum().unstack().mean()\\\n",
    "    .plot(figsize=(15, 5), title='average hourly attempts per IP address')"
   ]
  },
  {
   "cell_type": "markdown",
   "metadata": {},
   "source": [
    "What percent of the time was a hacker's attempt successful?"
   ]
  },
  {
   "cell_type": "code",
   "execution_count": 10,
   "metadata": {},
   "outputs": [
    {
     "data": {
      "text/plain": [
       "False    0.836524\n",
       "True     0.163476\n",
       "Name: success, dtype: float64"
      ]
     },
     "execution_count": 10,
     "metadata": {},
     "output_type": "execute_result"
    }
   ],
   "source": [
    "log[log.source_ip.isin(attacks.source_ip)]\\\n",
    "    .success.value_counts(normalize=True)"
   ]
  },
  {
   "cell_type": "markdown",
   "metadata": {},
   "source": [
    "What percent of the time are valid users' attempts successful?"
   ]
  },
  {
   "cell_type": "code",
   "execution_count": 11,
   "metadata": {},
   "outputs": [
    {
     "data": {
      "text/plain": [
       "True     0.597484\n",
       "False    0.402516\n",
       "Name: success, dtype: float64"
      ]
     },
     "execution_count": 11,
     "metadata": {},
     "output_type": "execute_result"
    }
   ],
   "source": [
    "log[~log.source_ip.isin(attacks.source_ip)]\\\n",
    "    .success.value_counts(normalize=True)"
   ]
  },
  {
   "cell_type": "markdown",
   "metadata": {},
   "source": [
    "Why is each group failing?"
   ]
  },
  {
   "cell_type": "code",
   "execution_count": 12,
   "metadata": {},
   "outputs": [
    {
     "data": {
      "text/html": [
       "<div>\n",
       "<style scoped>\n",
       "    .dataframe tbody tr th:only-of-type {\n",
       "        vertical-align: middle;\n",
       "    }\n",
       "\n",
       "    .dataframe tbody tr th {\n",
       "        vertical-align: top;\n",
       "    }\n",
       "\n",
       "    .dataframe thead th {\n",
       "        text-align: right;\n",
       "    }\n",
       "</style>\n",
       "<table border=\"1\" class=\"dataframe\">\n",
       "  <thead>\n",
       "    <tr style=\"text-align: right;\">\n",
       "      <th>failure_reason</th>\n",
       "      <th>error_account_locked</th>\n",
       "      <th>error_wrong_password</th>\n",
       "      <th>error_wrong_username</th>\n",
       "    </tr>\n",
       "    <tr>\n",
       "      <th>is_hacker</th>\n",
       "      <th></th>\n",
       "      <th></th>\n",
       "      <th></th>\n",
       "    </tr>\n",
       "  </thead>\n",
       "  <tbody>\n",
       "    <tr>\n",
       "      <th>False</th>\n",
       "      <td>101</td>\n",
       "      <td>450</td>\n",
       "      <td>345</td>\n",
       "    </tr>\n",
       "    <tr>\n",
       "      <th>True</th>\n",
       "      <td>93</td>\n",
       "      <td>3967</td>\n",
       "      <td>6645</td>\n",
       "    </tr>\n",
       "  </tbody>\n",
       "</table>\n",
       "</div>"
      ],
      "text/plain": [
       "failure_reason  error_account_locked  error_wrong_password  \\\n",
       "is_hacker                                                    \n",
       "False                            101                   450   \n",
       "True                              93                  3967   \n",
       "\n",
       "failure_reason  error_wrong_username  \n",
       "is_hacker                             \n",
       "False                            345  \n",
       "True                            6645  "
      ]
     },
     "execution_count": 12,
     "metadata": {},
     "output_type": "execute_result"
    }
   ],
   "source": [
    "pd.crosstab(\n",
    "    index=pd.Series(\n",
    "        log.source_ip.isin(attacks.source_ip), name='is_hacker'\n",
    "    ), columns=log.failure_reason\n",
    ")"
   ]
  },
  {
   "cell_type": "code",
   "execution_count": 13,
   "metadata": {},
   "outputs": [
    {
     "data": {
      "text/plain": [
       "<matplotlib.axes._subplots.AxesSubplot at 0x1d94f590>"
      ]
     },
     "execution_count": 13,
     "metadata": {},
     "output_type": "execute_result"
    },
    {
     "data": {
      "image/png": "[encoded data removed]",
      "text/plain": [
       "<Figure size 1080x360 with 1 Axes>"
      ]
     },
     "metadata": {
      "needs_background": "light"
     },
     "output_type": "display_data"
    }
   ],
   "source": [
    "# attempts per user\n",
    "log.assign(attempts=1).groupby('username').attempts\\\n",
    "    .resample('1H').sum().unstack().mean()\\\n",
    "    .plot(figsize=(15, 5), title='average hourly attempts per user')"
   ]
  },
  {
   "cell_type": "markdown",
   "metadata": {},
   "source": [
    "Calculate metrics per IP address"
   ]
  },
  {
   "cell_type": "code",
   "execution_count": 14,
   "metadata": {},
   "outputs": [
    {
     "data": {
      "text/html": [
       "<div>\n",
       "<style scoped>\n",
       "    .dataframe tbody tr th:only-of-type {\n",
       "        vertical-align: middle;\n",
       "    }\n",
       "\n",
       "    .dataframe tbody tr th {\n",
       "        vertical-align: top;\n",
       "    }\n",
       "\n",
       "    .dataframe thead th {\n",
       "        text-align: right;\n",
       "    }\n",
       "</style>\n",
       "<table border=\"1\" class=\"dataframe\">\n",
       "  <thead>\n",
       "    <tr style=\"text-align: right;\">\n",
       "      <th>failure_reason</th>\n",
       "      <th>attempts</th>\n",
       "      <th>error_account_locked</th>\n",
       "      <th>error_wrong_password</th>\n",
       "      <th>error_wrong_username</th>\n",
       "      <th>success</th>\n",
       "      <th>success_rate</th>\n",
       "      <th>error_rate</th>\n",
       "    </tr>\n",
       "    <tr>\n",
       "      <th>source_ip</th>\n",
       "      <th></th>\n",
       "      <th></th>\n",
       "      <th></th>\n",
       "      <th></th>\n",
       "      <th></th>\n",
       "      <th></th>\n",
       "      <th></th>\n",
       "    </tr>\n",
       "  </thead>\n",
       "  <tbody>\n",
       "    <tr>\n",
       "      <th>153.175.108.118</th>\n",
       "      <td>258</td>\n",
       "      <td>0</td>\n",
       "      <td>73</td>\n",
       "      <td>149</td>\n",
       "      <td>36</td>\n",
       "      <td>0.139535</td>\n",
       "      <td>0.860465</td>\n",
       "    </tr>\n",
       "    <tr>\n",
       "      <th>162.108.141.30</th>\n",
       "      <td>256</td>\n",
       "      <td>2</td>\n",
       "      <td>90</td>\n",
       "      <td>119</td>\n",
       "      <td>45</td>\n",
       "      <td>0.175781</td>\n",
       "      <td>0.824219</td>\n",
       "    </tr>\n",
       "    <tr>\n",
       "      <th>76.53.83.236</th>\n",
       "      <td>256</td>\n",
       "      <td>4</td>\n",
       "      <td>81</td>\n",
       "      <td>141</td>\n",
       "      <td>30</td>\n",
       "      <td>0.117188</td>\n",
       "      <td>0.882812</td>\n",
       "    </tr>\n",
       "    <tr>\n",
       "      <th>38.123.57.42</th>\n",
       "      <td>255</td>\n",
       "      <td>0</td>\n",
       "      <td>76</td>\n",
       "      <td>140</td>\n",
       "      <td>39</td>\n",
       "      <td>0.152941</td>\n",
       "      <td>0.847059</td>\n",
       "    </tr>\n",
       "    <tr>\n",
       "      <th>13.188.93.3</th>\n",
       "      <td>255</td>\n",
       "      <td>2</td>\n",
       "      <td>92</td>\n",
       "      <td>124</td>\n",
       "      <td>37</td>\n",
       "      <td>0.145098</td>\n",
       "      <td>0.854902</td>\n",
       "    </tr>\n",
       "  </tbody>\n",
       "</table>\n",
       "</div>"
      ],
      "text/plain": [
       "failure_reason   attempts  error_account_locked  error_wrong_password  \\\n",
       "source_ip                                                               \n",
       "153.175.108.118       258                     0                    73   \n",
       "162.108.141.30        256                     2                    90   \n",
       "76.53.83.236          256                     4                    81   \n",
       "38.123.57.42          255                     0                    76   \n",
       "13.188.93.3           255                     2                    92   \n",
       "\n",
       "failure_reason   error_wrong_username  success  success_rate  error_rate  \n",
       "source_ip                                                                 \n",
       "153.175.108.118                   149       36      0.139535    0.860465  \n",
       "162.108.141.30                    119       45      0.175781    0.824219  \n",
       "76.53.83.236                      141       30      0.117188    0.882812  \n",
       "38.123.57.42                      140       39      0.152941    0.847059  \n",
       "13.188.93.3                       124       37      0.145098    0.854902  "
      ]
     },
     "execution_count": 14,
     "metadata": {},
     "output_type": "execute_result"
    }
   ],
   "source": [
    "pivot = pd.pivot_table(\n",
    "    log, values='success', index=log.source_ip, \n",
    "    columns=log.failure_reason.fillna('success'), \n",
    "    aggfunc='count', fill_value=0\n",
    ")\n",
    "pivot.insert(0, 'attempts', pivot.sum(axis=1))\n",
    "pivot = pivot.sort_values('attempts', ascending=False).assign(\n",
    "    success_rate=lambda x: x.success / x.attempts,\n",
    "    error_rate=lambda x: 1 - x.success_rate\n",
    ")\n",
    "pivot.head()"
   ]
  },
  {
   "cell_type": "code",
   "execution_count": 15,
   "metadata": {},
   "outputs": [
    {
     "data": {
      "text/html": [
       "<div>\n",
       "<style scoped>\n",
       "    .dataframe tbody tr th:only-of-type {\n",
       "        vertical-align: middle;\n",
       "    }\n",
       "\n",
       "    .dataframe tbody tr th {\n",
       "        vertical-align: top;\n",
       "    }\n",
       "\n",
       "    .dataframe thead th {\n",
       "        text-align: right;\n",
       "    }\n",
       "</style>\n",
       "<table border=\"1\" class=\"dataframe\">\n",
       "  <thead>\n",
       "    <tr style=\"text-align: right;\">\n",
       "      <th>failure_reason</th>\n",
       "      <th>attempts</th>\n",
       "      <th>error_account_locked</th>\n",
       "      <th>error_wrong_password</th>\n",
       "      <th>error_wrong_username</th>\n",
       "      <th>success</th>\n",
       "      <th>success_rate</th>\n",
       "      <th>error_rate</th>\n",
       "    </tr>\n",
       "    <tr>\n",
       "      <th>source_ip</th>\n",
       "      <th></th>\n",
       "      <th></th>\n",
       "      <th></th>\n",
       "      <th></th>\n",
       "      <th></th>\n",
       "      <th></th>\n",
       "      <th></th>\n",
       "    </tr>\n",
       "  </thead>\n",
       "  <tbody>\n",
       "    <tr>\n",
       "      <th>253.21.45.71</th>\n",
       "      <td>1</td>\n",
       "      <td>0</td>\n",
       "      <td>0</td>\n",
       "      <td>0</td>\n",
       "      <td>1</td>\n",
       "      <td>1.0</td>\n",
       "      <td>0.0</td>\n",
       "    </tr>\n",
       "    <tr>\n",
       "      <th>124.178.25.98</th>\n",
       "      <td>2</td>\n",
       "      <td>0</td>\n",
       "      <td>0</td>\n",
       "      <td>0</td>\n",
       "      <td>2</td>\n",
       "      <td>1.0</td>\n",
       "      <td>0.0</td>\n",
       "    </tr>\n",
       "    <tr>\n",
       "      <th>27.140.145.181</th>\n",
       "      <td>4</td>\n",
       "      <td>0</td>\n",
       "      <td>0</td>\n",
       "      <td>0</td>\n",
       "      <td>4</td>\n",
       "      <td>1.0</td>\n",
       "      <td>0.0</td>\n",
       "    </tr>\n",
       "    <tr>\n",
       "      <th>125.15.117.120</th>\n",
       "      <td>2</td>\n",
       "      <td>0</td>\n",
       "      <td>0</td>\n",
       "      <td>0</td>\n",
       "      <td>2</td>\n",
       "      <td>1.0</td>\n",
       "      <td>0.0</td>\n",
       "    </tr>\n",
       "    <tr>\n",
       "      <th>126.124.56.18</th>\n",
       "      <td>2</td>\n",
       "      <td>0</td>\n",
       "      <td>0</td>\n",
       "      <td>0</td>\n",
       "      <td>2</td>\n",
       "      <td>1.0</td>\n",
       "      <td>0.0</td>\n",
       "    </tr>\n",
       "  </tbody>\n",
       "</table>\n",
       "</div>"
      ],
      "text/plain": [
       "failure_reason  attempts  error_account_locked  error_wrong_password  \\\n",
       "source_ip                                                              \n",
       "253.21.45.71           1                     0                     0   \n",
       "124.178.25.98          2                     0                     0   \n",
       "27.140.145.181         4                     0                     0   \n",
       "125.15.117.120         2                     0                     0   \n",
       "126.124.56.18          2                     0                     0   \n",
       "\n",
       "failure_reason  error_wrong_username  success  success_rate  error_rate  \n",
       "source_ip                                                                \n",
       "253.21.45.71                       0        1           1.0         0.0  \n",
       "124.178.25.98                      0        2           1.0         0.0  \n",
       "27.140.145.181                     0        4           1.0         0.0  \n",
       "125.15.117.120                     0        2           1.0         0.0  \n",
       "126.124.56.18                      0        2           1.0         0.0  "
      ]
     },
     "execution_count": 15,
     "metadata": {},
     "output_type": "execute_result"
    }
   ],
   "source": [
    "pivot.sort_values('success_rate', ascending=False).head()"
   ]
  },
  {
   "cell_type": "code",
   "execution_count": 16,
   "metadata": {},
   "outputs": [
    {
     "data": {
      "text/html": [
       "<div>\n",
       "<style scoped>\n",
       "    .dataframe tbody tr th:only-of-type {\n",
       "        vertical-align: middle;\n",
       "    }\n",
       "\n",
       "    .dataframe tbody tr th {\n",
       "        vertical-align: top;\n",
       "    }\n",
       "\n",
       "    .dataframe thead th {\n",
       "        text-align: right;\n",
       "    }\n",
       "</style>\n",
       "<table border=\"1\" class=\"dataframe\">\n",
       "  <thead>\n",
       "    <tr style=\"text-align: right;\">\n",
       "      <th>failure_reason</th>\n",
       "      <th>attempts</th>\n",
       "      <th>error_account_locked</th>\n",
       "      <th>error_wrong_password</th>\n",
       "      <th>error_wrong_username</th>\n",
       "      <th>success</th>\n",
       "      <th>success_rate</th>\n",
       "      <th>error_rate</th>\n",
       "    </tr>\n",
       "  </thead>\n",
       "  <tbody>\n",
       "    <tr>\n",
       "      <th>count</th>\n",
       "      <td>285.000000</td>\n",
       "      <td>285.000000</td>\n",
       "      <td>285.000000</td>\n",
       "      <td>285.000000</td>\n",
       "      <td>285.000000</td>\n",
       "      <td>285.000000</td>\n",
       "      <td>285.000000</td>\n",
       "    </tr>\n",
       "    <tr>\n",
       "      <th>mean</th>\n",
       "      <td>52.712281</td>\n",
       "      <td>0.680702</td>\n",
       "      <td>15.498246</td>\n",
       "      <td>24.526316</td>\n",
       "      <td>12.007018</td>\n",
       "      <td>0.537931</td>\n",
       "      <td>0.462069</td>\n",
       "    </tr>\n",
       "    <tr>\n",
       "      <th>std</th>\n",
       "      <td>88.652757</td>\n",
       "      <td>1.138234</td>\n",
       "      <td>28.034640</td>\n",
       "      <td>47.662585</td>\n",
       "      <td>13.629399</td>\n",
       "      <td>0.279047</td>\n",
       "      <td>0.279047</td>\n",
       "    </tr>\n",
       "    <tr>\n",
       "      <th>min</th>\n",
       "      <td>1.000000</td>\n",
       "      <td>0.000000</td>\n",
       "      <td>0.000000</td>\n",
       "      <td>0.000000</td>\n",
       "      <td>0.000000</td>\n",
       "      <td>0.000000</td>\n",
       "      <td>0.000000</td>\n",
       "    </tr>\n",
       "    <tr>\n",
       "      <th>25%</th>\n",
       "      <td>5.000000</td>\n",
       "      <td>0.000000</td>\n",
       "      <td>1.000000</td>\n",
       "      <td>0.000000</td>\n",
       "      <td>3.000000</td>\n",
       "      <td>0.280000</td>\n",
       "      <td>0.250000</td>\n",
       "    </tr>\n",
       "    <tr>\n",
       "      <th>50%</th>\n",
       "      <td>10.000000</td>\n",
       "      <td>0.000000</td>\n",
       "      <td>2.000000</td>\n",
       "      <td>2.000000</td>\n",
       "      <td>6.000000</td>\n",
       "      <td>0.545455</td>\n",
       "      <td>0.454545</td>\n",
       "    </tr>\n",
       "    <tr>\n",
       "      <th>75%</th>\n",
       "      <td>30.000000</td>\n",
       "      <td>1.000000</td>\n",
       "      <td>7.000000</td>\n",
       "      <td>7.000000</td>\n",
       "      <td>13.000000</td>\n",
       "      <td>0.750000</td>\n",
       "      <td>0.720000</td>\n",
       "    </tr>\n",
       "    <tr>\n",
       "      <th>max</th>\n",
       "      <td>258.000000</td>\n",
       "      <td>5.000000</td>\n",
       "      <td>96.000000</td>\n",
       "      <td>153.000000</td>\n",
       "      <td>51.000000</td>\n",
       "      <td>1.000000</td>\n",
       "      <td>1.000000</td>\n",
       "    </tr>\n",
       "  </tbody>\n",
       "</table>\n",
       "</div>"
      ],
      "text/plain": [
       "failure_reason    attempts  error_account_locked  error_wrong_password  \\\n",
       "count           285.000000            285.000000            285.000000   \n",
       "mean             52.712281              0.680702             15.498246   \n",
       "std              88.652757              1.138234             28.034640   \n",
       "min               1.000000              0.000000              0.000000   \n",
       "25%               5.000000              0.000000              1.000000   \n",
       "50%              10.000000              0.000000              2.000000   \n",
       "75%              30.000000              1.000000              7.000000   \n",
       "max             258.000000              5.000000             96.000000   \n",
       "\n",
       "failure_reason  error_wrong_username     success  success_rate  error_rate  \n",
       "count                     285.000000  285.000000    285.000000  285.000000  \n",
       "mean                       24.526316   12.007018      0.537931    0.462069  \n",
       "std                        47.662585   13.629399      0.279047    0.279047  \n",
       "min                         0.000000    0.000000      0.000000    0.000000  \n",
       "25%                         0.000000    3.000000      0.280000    0.250000  \n",
       "50%                         2.000000    6.000000      0.545455    0.454545  \n",
       "75%                         7.000000   13.000000      0.750000    0.720000  \n",
       "max                       153.000000   51.000000      1.000000    1.000000  "
      ]
     },
     "execution_count": 16,
     "metadata": {},
     "output_type": "execute_result"
    }
   ],
   "source": [
    "pivot.describe()"
   ]
  },
  {
   "cell_type": "markdown",
   "metadata": {},
   "source": [
    "Distinct users per IP address"
   ]
  },
  {
   "cell_type": "code",
   "execution_count": 17,
   "metadata": {},
   "outputs": [
    {
     "data": {
      "text/plain": [
       "count    41.000000\n",
       "mean      6.951220\n",
       "std      17.036653\n",
       "min       1.000000\n",
       "25%       1.000000\n",
       "50%       1.000000\n",
       "75%       4.000000\n",
       "max      86.000000\n",
       "Name: username, dtype: float64"
      ]
     },
     "execution_count": 17,
     "metadata": {},
     "output_type": "execute_result"
    }
   ],
   "source": [
    "log.groupby('source_ip').agg(\n",
    "    dict(username='nunique')\n",
    ").username.value_counts().describe()"
   ]
  },
  {
   "cell_type": "markdown",
   "metadata": {},
   "source": [
    "### Visual Anomaly Detection"
   ]
  },
  {
   "cell_type": "code",
   "execution_count": 18,
   "metadata": {},
   "outputs": [
    {
     "data": {
      "text/plain": [
       "<matplotlib.axes._subplots.AxesSubplot at 0x1df8d1f0>"
      ]
     },
     "execution_count": 18,
     "metadata": {},
     "output_type": "execute_result"
    },
    {
     "data": {
      "image/png": "[encoded data removed]",
      "text/plain": [
       "<Figure size 432x288 with 1 Axes>"
      ]
     },
     "metadata": {
      "needs_background": "light"
     },
     "output_type": "display_data"
    }
   ],
   "source": [
    "pivot.plot(\n",
    "    kind='scatter', x='attempts', y='success', \n",
    "    title='successes vs. attempts by IP address', alpha=0.25\n",
    ")"
   ]
  },
  {
   "cell_type": "code",
   "execution_count": 19,
   "metadata": {},
   "outputs": [
    {
     "data": {
      "text/plain": [
       "<matplotlib.legend.Legend at 0x1dfbf650>"
      ]
     },
     "execution_count": 19,
     "metadata": {},
     "output_type": "execute_result"
    },
    {
     "data": {
      "image/png": "[encoded data removed]",
      "text/plain": [
       "<Figure size 432x288 with 1 Axes>"
      ]
     },
     "metadata": {
      "needs_background": "light"
     },
     "output_type": "display_data"
    }
   ],
   "source": [
    "ax = pivot.plot(\n",
    "    kind='scatter', x='attempts', y='success', \n",
    "    title='successes vs. attempts by IP address', alpha=0.25\n",
    ")\n",
    "x = np.linspace(0, 200)\n",
    "ax.plot(x, .25*x, 'r--', label='sample boundary')\n",
    "plt.ylim(0, 50)\n",
    "plt.legend()"
   ]
  },
  {
   "cell_type": "code",
   "execution_count": 20,
   "metadata": {},
   "outputs": [
    {
     "data": {
      "text/plain": [
       "Text(0.5, 0.98, 'successes vs. attempts by IP address')"
      ]
     },
     "execution_count": 20,
     "metadata": {},
     "output_type": "execute_result"
    },
    {
     "data": {
      "image/png": "[encoded data removed]",
      "text/plain": [
       "<Figure size 1080x360 with 2 Axes>"
      ]
     },
     "metadata": {
      "needs_background": "light"
     },
     "output_type": "display_data"
    }
   ],
   "source": [
    "fig, axes = plt.subplots(1, 2, figsize=(15, 5))\n",
    "for ax in axes:\n",
    "    sns.scatterplot(\n",
    "        y=pivot.success, x=pivot.attempts, \n",
    "        hue=pivot.assign(\n",
    "            is_hacker=lambda x: x.index.isin(attacks.source_ip)\n",
    "        ).is_hacker,\n",
    "        ax=ax\n",
    "    )\n",
    "axes[1].set_xscale('log')\n",
    "plt.suptitle('successes vs. attempts by IP address')"
   ]
  },
  {
   "cell_type": "code",
   "execution_count": 21,
   "metadata": {},
   "outputs": [
    {
     "data": {
      "text/plain": [
       "attempts       AxesSubplot(0.125,0.125;0.352273x0.755)\n",
       "success     AxesSubplot(0.547727,0.125;0.352273x0.755)\n",
       "dtype: object"
      ]
     },
     "execution_count": 21,
     "metadata": {},
     "output_type": "execute_result"
    },
    {
     "data": {
      "image/png": "[encoded data removed]",
      "text/plain": [
       "<Figure size 720x216 with 2 Axes>"
      ]
     },
     "metadata": {
      "needs_background": "light"
     },
     "output_type": "display_data"
    }
   ],
   "source": [
    "pivot[['attempts', 'success']].plot(\n",
    "    kind='box', subplots=True, figsize=(10, 3),\n",
    "    title='stats per IP address'\n",
    ")"
   ]
  },
  {
   "cell_type": "markdown",
   "metadata": {},
   "source": [
    "## Rule-based Anomaly Detection"
   ]
  },
  {
   "cell_type": "code",
   "execution_count": 22,
   "metadata": {},
   "outputs": [],
   "source": [
    "hourly_ip_logs = log.assign(\n",
    "    failures=lambda x: np.invert(x.success)\n",
    ").groupby('source_ip').resample('1H').agg(\n",
    "    {'username': 'nunique', 'success':'sum', 'failures': 'sum'}\n",
    ").assign(\n",
    "    attempts=lambda x: x.success + x.failures,\n",
    "    success_rate=lambda x: x.success / x.attempts,\n",
    "    failure_rate=lambda x: 1 - x.success_rate\n",
    ").dropna().reset_index()"
   ]
  },
  {
   "cell_type": "code",
   "execution_count": 23,
   "metadata": {},
   "outputs": [
    {
     "data": {
      "text/html": [
       "<div>\n",
       "<style scoped>\n",
       "    .dataframe tbody tr th:only-of-type {\n",
       "        vertical-align: middle;\n",
       "    }\n",
       "\n",
       "    .dataframe tbody tr th {\n",
       "        vertical-align: top;\n",
       "    }\n",
       "\n",
       "    .dataframe thead th {\n",
       "        text-align: right;\n",
       "    }\n",
       "</style>\n",
       "<table border=\"1\" class=\"dataframe\">\n",
       "  <thead>\n",
       "    <tr style=\"text-align: right;\">\n",
       "      <th></th>\n",
       "      <th>source_ip</th>\n",
       "      <th>datetime</th>\n",
       "      <th>username</th>\n",
       "      <th>success</th>\n",
       "      <th>failures</th>\n",
       "      <th>attempts</th>\n",
       "      <th>success_rate</th>\n",
       "      <th>failure_rate</th>\n",
       "    </tr>\n",
       "  </thead>\n",
       "  <tbody>\n",
       "    <tr>\n",
       "      <th>0</th>\n",
       "      <td>1.218.123.66</td>\n",
       "      <td>2019-02-06 20:00:00</td>\n",
       "      <td>1</td>\n",
       "      <td>1.0</td>\n",
       "      <td>0.0</td>\n",
       "      <td>1.0</td>\n",
       "      <td>1.0</td>\n",
       "      <td>0.0</td>\n",
       "    </tr>\n",
       "    <tr>\n",
       "      <th>1</th>\n",
       "      <td>1.218.123.66</td>\n",
       "      <td>2019-02-07 18:00:00</td>\n",
       "      <td>1</td>\n",
       "      <td>2.0</td>\n",
       "      <td>0.0</td>\n",
       "      <td>2.0</td>\n",
       "      <td>1.0</td>\n",
       "      <td>0.0</td>\n",
       "    </tr>\n",
       "    <tr>\n",
       "      <th>2</th>\n",
       "      <td>1.218.123.66</td>\n",
       "      <td>2019-02-07 19:00:00</td>\n",
       "      <td>1</td>\n",
       "      <td>0.0</td>\n",
       "      <td>3.0</td>\n",
       "      <td>3.0</td>\n",
       "      <td>0.0</td>\n",
       "      <td>1.0</td>\n",
       "    </tr>\n",
       "    <tr>\n",
       "      <th>3</th>\n",
       "      <td>100.208.255.37</td>\n",
       "      <td>2019-02-07 09:00:00</td>\n",
       "      <td>1</td>\n",
       "      <td>0.0</td>\n",
       "      <td>4.0</td>\n",
       "      <td>4.0</td>\n",
       "      <td>0.0</td>\n",
       "      <td>1.0</td>\n",
       "    </tr>\n",
       "    <tr>\n",
       "      <th>4</th>\n",
       "      <td>100.208.255.37</td>\n",
       "      <td>2019-02-08 05:00:00</td>\n",
       "      <td>1</td>\n",
       "      <td>2.0</td>\n",
       "      <td>0.0</td>\n",
       "      <td>2.0</td>\n",
       "      <td>1.0</td>\n",
       "      <td>0.0</td>\n",
       "    </tr>\n",
       "  </tbody>\n",
       "</table>\n",
       "</div>"
      ],
      "text/plain": [
       "        source_ip            datetime  username  success  failures  attempts  \\\n",
       "0    1.218.123.66 2019-02-06 20:00:00         1      1.0       0.0       1.0   \n",
       "1    1.218.123.66 2019-02-07 18:00:00         1      2.0       0.0       2.0   \n",
       "2    1.218.123.66 2019-02-07 19:00:00         1      0.0       3.0       3.0   \n",
       "3  100.208.255.37 2019-02-07 09:00:00         1      0.0       4.0       4.0   \n",
       "4  100.208.255.37 2019-02-08 05:00:00         1      2.0       0.0       2.0   \n",
       "\n",
       "   success_rate  failure_rate  \n",
       "0           1.0           0.0  \n",
       "1           1.0           0.0  \n",
       "2           0.0           1.0  \n",
       "3           0.0           1.0  \n",
       "4           1.0           0.0  "
      ]
     },
     "execution_count": 23,
     "metadata": {},
     "output_type": "execute_result"
    }
   ],
   "source": [
    "hourly_ip_logs.head()"
   ]
  },
  {
   "cell_type": "code",
   "execution_count": 24,
   "metadata": {},
   "outputs": [
    {
     "data": {
      "text/plain": [
       "0.22807017543859648"
      ]
     },
     "execution_count": 24,
     "metadata": {},
     "output_type": "execute_result"
    }
   ],
   "source": [
    "attacks.source_ip.nunique() / log.source_ip.nunique()"
   ]
  },
  {
   "cell_type": "markdown",
   "metadata": {},
   "source": [
    "### Percent Difference from Threshold"
   ]
  },
  {
   "cell_type": "code",
   "execution_count": 25,
   "metadata": {},
   "outputs": [],
   "source": [
    "def get_baselines(hourly_ip_logs, func, *args, **kwargs):\n",
    "    \"\"\"Calculate hourly statistic per column.\"\"\"\n",
    "    if isinstance(func, str):\n",
    "        func = getattr(pd.DataFrame, func)\n",
    "    return hourly_ip_logs.assign(\n",
    "        hour=lambda x: x.datetime.dt.hour\n",
    "    ).groupby('hour').apply(\n",
    "        lambda x: x.sample(10, random_state=0, replace=True).pipe(func, *args, **kwargs)\n",
    "    )"
   ]
  },
  {
   "cell_type": "code",
   "execution_count": 26,
   "metadata": {},
   "outputs": [],
   "source": [
    "averages = get_baselines(hourly_ip_logs, 'mean')"
   ]
  },
  {
   "cell_type": "code",
   "execution_count": 27,
   "metadata": {},
   "outputs": [
    {
     "data": {
      "text/plain": [
       "(24, 7)"
      ]
     },
     "execution_count": 27,
     "metadata": {},
     "output_type": "execute_result"
    }
   ],
   "source": [
    "averages.shape"
   ]
  },
  {
   "cell_type": "code",
   "execution_count": 28,
   "metadata": {},
   "outputs": [
    {
     "data": {
      "text/html": [
       "<div>\n",
       "<style scoped>\n",
       "    .dataframe tbody tr th:only-of-type {\n",
       "        vertical-align: middle;\n",
       "    }\n",
       "\n",
       "    .dataframe tbody tr th {\n",
       "        vertical-align: top;\n",
       "    }\n",
       "\n",
       "    .dataframe thead th {\n",
       "        text-align: right;\n",
       "    }\n",
       "</style>\n",
       "<table border=\"1\" class=\"dataframe\">\n",
       "  <thead>\n",
       "    <tr style=\"text-align: right;\">\n",
       "      <th></th>\n",
       "      <th>username</th>\n",
       "      <th>success</th>\n",
       "      <th>failures</th>\n",
       "      <th>attempts</th>\n",
       "      <th>success_rate</th>\n",
       "      <th>failure_rate</th>\n",
       "      <th>hour</th>\n",
       "    </tr>\n",
       "    <tr>\n",
       "      <th>hour</th>\n",
       "      <th></th>\n",
       "      <th></th>\n",
       "      <th></th>\n",
       "      <th></th>\n",
       "      <th></th>\n",
       "      <th></th>\n",
       "      <th></th>\n",
       "    </tr>\n",
       "  </thead>\n",
       "  <tbody>\n",
       "    <tr>\n",
       "      <th>0</th>\n",
       "      <td>1.5</td>\n",
       "      <td>1.6</td>\n",
       "      <td>1.1</td>\n",
       "      <td>2.7</td>\n",
       "      <td>0.733333</td>\n",
       "      <td>0.266667</td>\n",
       "      <td>0.0</td>\n",
       "    </tr>\n",
       "    <tr>\n",
       "      <th>1</th>\n",
       "      <td>1.1</td>\n",
       "      <td>1.3</td>\n",
       "      <td>0.3</td>\n",
       "      <td>1.6</td>\n",
       "      <td>0.891667</td>\n",
       "      <td>0.108333</td>\n",
       "      <td>1.0</td>\n",
       "    </tr>\n",
       "    <tr>\n",
       "      <th>2</th>\n",
       "      <td>1.6</td>\n",
       "      <td>1.1</td>\n",
       "      <td>1.5</td>\n",
       "      <td>2.6</td>\n",
       "      <td>0.561905</td>\n",
       "      <td>0.438095</td>\n",
       "      <td>2.0</td>\n",
       "    </tr>\n",
       "    <tr>\n",
       "      <th>3</th>\n",
       "      <td>5.5</td>\n",
       "      <td>2.2</td>\n",
       "      <td>6.5</td>\n",
       "      <td>8.7</td>\n",
       "      <td>0.651244</td>\n",
       "      <td>0.348756</td>\n",
       "      <td>3.0</td>\n",
       "    </tr>\n",
       "    <tr>\n",
       "      <th>4</th>\n",
       "      <td>15.0</td>\n",
       "      <td>5.1</td>\n",
       "      <td>21.3</td>\n",
       "      <td>26.4</td>\n",
       "      <td>0.815385</td>\n",
       "      <td>0.184615</td>\n",
       "      <td>4.0</td>\n",
       "    </tr>\n",
       "  </tbody>\n",
       "</table>\n",
       "</div>"
      ],
      "text/plain": [
       "      username  success  failures  attempts  success_rate  failure_rate  hour\n",
       "hour                                                                         \n",
       "0          1.5      1.6       1.1       2.7      0.733333      0.266667   0.0\n",
       "1          1.1      1.3       0.3       1.6      0.891667      0.108333   1.0\n",
       "2          1.6      1.1       1.5       2.6      0.561905      0.438095   2.0\n",
       "3          5.5      2.2       6.5       8.7      0.651244      0.348756   3.0\n",
       "4         15.0      5.1      21.3      26.4      0.815385      0.184615   4.0"
      ]
     },
     "execution_count": 28,
     "metadata": {},
     "output_type": "execute_result"
    }
   ],
   "source": [
    "averages.head()"
   ]
  },
  {
   "cell_type": "code",
   "execution_count": 29,
   "metadata": {},
   "outputs": [],
   "source": [
    "def pct_change_threshold(hourly_ip_logs, baselines, pcts=None):\n",
    "    \"\"\"\n",
    "    Return flagged IP addresses based on thresholds.\n",
    "    \n",
    "    Parameters:\n",
    "        - hourly_ip_logs: Aggregated hourly data per IP address.\n",
    "        - baselines: Hourly baselines per column in data.\n",
    "        - pcts: Dictionary of custom percentages per column for\n",
    "                calculating upper bound thresholds (baseline * pct).\n",
    "                If not provided, upper bounds will be:\n",
    "                    - 4: usernames per IP address\n",
    "                    - 1.5: attempts per IP address\n",
    "                    - 0.5: failure rate per IP address\n",
    "    \n",
    "    Returns:\n",
    "        Pandas series containing the IP addresses flagged.\n",
    "    \"\"\"\n",
    "    pcts = {} if not pcts else pcts\n",
    "\n",
    "    return hourly_ip_logs.assign(\n",
    "        hour=lambda x: x.datetime.dt.hour\n",
    "    ).join(\n",
    "        baselines, on='hour', rsuffix='_baseline'\n",
    "    ).assign(\n",
    "        too_many_users=lambda x: x.username_baseline \\\n",
    "            * pcts.get('username', 4) <= x.username,\n",
    "        too_many_attempts=lambda x: x.attempts_baseline \\\n",
    "            * pcts.get('attempts', 1.5) <= x.attempts,\n",
    "        high_failure_rate=lambda x: x.failure_rate_baseline \\\n",
    "            * pcts.get('failure_rate', 1.5) <= x.failure_rate\n",
    "    ).query(\n",
    "        'too_many_users and too_many_attempts and high_failure_rate'\n",
    "    ).source_ip.drop_duplicates()"
   ]
  },
  {
   "cell_type": "code",
   "execution_count": 30,
   "metadata": {},
   "outputs": [
    {
     "data": {
      "text/plain": [
       "56"
      ]
     },
     "execution_count": 30,
     "metadata": {},
     "output_type": "execute_result"
    }
   ],
   "source": [
    "pct_from_mean_ips = pct_change_threshold(hourly_ip_logs, averages)\n",
    "pct_from_mean_ips.nunique()"
   ]
  },
  {
   "cell_type": "markdown",
   "metadata": {},
   "source": [
    "### Tukey Fence"
   ]
  },
  {
   "cell_type": "code",
   "execution_count": 31,
   "metadata": {},
   "outputs": [],
   "source": [
    "q3 = get_baselines(hourly_ip_logs, 'quantile', .75).drop(columns=['hour'])\n",
    "q1 = get_baselines(hourly_ip_logs, 'quantile', .25).drop(columns=['hour'])\n",
    "iqr = q3 - q1\n",
    "upper_bound = (q3 + 1.5*iqr).reset_index()"
   ]
  },
  {
   "cell_type": "code",
   "execution_count": 32,
   "metadata": {},
   "outputs": [],
   "source": [
    "tukey_fence_flags = pct_change_threshold(\n",
    "    hourly_ip_logs, upper_bound, \n",
    "    pcts={key: 1 for key in ['username', 'attempts', 'failure_rate']}\n",
    ")"
   ]
  },
  {
   "cell_type": "code",
   "execution_count": 33,
   "metadata": {},
   "outputs": [
    {
     "data": {
      "text/plain": [
       "75"
      ]
     },
     "execution_count": 33,
     "metadata": {},
     "output_type": "execute_result"
    }
   ],
   "source": [
    "tukey_fence_flags.nunique()"
   ]
  },
  {
   "cell_type": "markdown",
   "metadata": {},
   "source": [
    "### Z-score"
   ]
  },
  {
   "cell_type": "code",
   "execution_count": 34,
   "metadata": {},
   "outputs": [
    {
     "data": {
      "text/plain": [
       "7"
      ]
     },
     "execution_count": 34,
     "metadata": {},
     "output_type": "execute_result"
    }
   ],
   "source": [
    "std_dev = get_baselines(hourly_ip_logs, 'std').drop(columns=['hour'])\n",
    "\n",
    "z_score_ips = hourly_ip_logs.assign(\n",
    "        hour=lambda x: x.datetime.dt.hour\n",
    ").join(\n",
    "    std_dev.join(\n",
    "        averages.drop(columns=['hour']), \n",
    "        lsuffix='_std', \n",
    "        rsuffix='_mean'\n",
    "    ),\n",
    "    on='hour'\n",
    ").assign(\n",
    "    too_many_users=lambda x: (\n",
    "        x.username - x.username_mean\n",
    "    )/x.username_std >= 3,\n",
    "    too_many_attempts=lambda x:  (\n",
    "        x.attempts - x.attempts_mean\n",
    "    )/x.attempts_std >= 3,\n",
    "    high_failure_rate=lambda x:  (\n",
    "        x.failure_rate - x.failure_rate_mean\n",
    "    )/x.failure_rate_std >= 3\n",
    ").query(\n",
    "    'too_many_users and too_many_attempts and high_failure_rate'\n",
    ").source_ip.drop_duplicates()\n",
    "\n",
    "z_score_ips.nunique()"
   ]
  },
  {
   "cell_type": "markdown",
   "metadata": {},
   "source": [
    "### Evaluating methods"
   ]
  },
  {
   "cell_type": "code",
   "execution_count": 35,
   "metadata": {},
   "outputs": [],
   "source": [
    "def evaluate(alerted_ips, attack_ips, log_ips):\n",
    "    \"\"\"\n",
    "    Calculate true positives (TP), false positives (FP), \n",
    "    true negatives (TN), and false negatives (FN) for \n",
    "    IP addresses flagged as suspicious.\n",
    "    \n",
    "    Parameters:\n",
    "        - alerted_ips: Pandas series of flagged IP addresses\n",
    "        - attack_ips: Pandas series of attacker IP addresses\n",
    "        - log_ips: Pandas series of all IP addresses seen\n",
    "    \n",
    "    Returns:\n",
    "        Tuple of form (TP, FP, TN, FN)\n",
    "    \"\"\"\n",
    "    tp = alerted_ips.isin(attack_ips).sum()\n",
    "    tn = log_ips[log_ips.isin(alerted_ips)].isin(attack_ips).sum()\n",
    "    fp = np.invert(\n",
    "        log_ips[log_ips.isin(alerted_ips)].isin(attack_ips)\n",
    "    ).sum()\n",
    "    fn = np.invert(\n",
    "        log_ips[log_ips.isin(attack_ips)].isin(alerted_ips)\n",
    "    ).sum()\n",
    "    return tp, fp, tn, fn"
   ]
  },
  {
   "cell_type": "code",
   "execution_count": 36,
   "metadata": {},
   "outputs": [],
   "source": [
    "# make this easier to call\n",
    "from functools import partial\n",
    "scores = partial(evaluate, attack_ips=attacks.source_ip, log_ips=pivot.index)"
   ]
  },
  {
   "cell_type": "markdown",
   "metadata": {},
   "source": [
    "#### percent difference from mean"
   ]
  },
  {
   "cell_type": "code",
   "execution_count": 37,
   "metadata": {},
   "outputs": [
    {
     "data": {
      "text/plain": [
       "True    1.0\n",
       "Name: source_ip, dtype: float64"
      ]
     },
     "execution_count": 37,
     "metadata": {},
     "output_type": "execute_result"
    }
   ],
   "source": [
    "pct_from_mean_ips.isin(attacks.source_ip).value_counts(\n",
    "    normalize=True\n",
    ")"
   ]
  },
  {
   "cell_type": "code",
   "execution_count": 38,
   "metadata": {},
   "outputs": [],
   "source": [
    "tp, fp, tn, fn = scores(pct_from_mean_ips)"
   ]
  },
  {
   "cell_type": "code",
   "execution_count": 39,
   "metadata": {},
   "outputs": [
    {
     "data": {
      "text/plain": [
       "0.8615384615384616"
      ]
     },
     "execution_count": 39,
     "metadata": {},
     "output_type": "execute_result"
    }
   ],
   "source": [
    "# recall \n",
    "tp / (tp + fn)"
   ]
  },
  {
   "cell_type": "code",
   "execution_count": 40,
   "metadata": {},
   "outputs": [],
   "source": [
    "def classification_stats(tp, fp, tn, fn):\n",
    "    \"\"\"Calculate accuracy, precision, recall, and F1-score\"\"\"\n",
    "    recall = tp / (tp + fn)\n",
    "    precision = tp / (tp + fp)\n",
    "    f1_score = 2 * precision * recall / (precision + recall)\n",
    "    return {\n",
    "        'accuracy' : (tp + tn) / (tp + fp + tn + fn),\n",
    "        'precision' : precision,\n",
    "        'recall' : recall,\n",
    "        'F1-score' : f1_score\n",
    "    }"
   ]
  },
  {
   "cell_type": "code",
   "execution_count": 41,
   "metadata": {},
   "outputs": [
    {
     "data": {
      "text/plain": [
       "{'accuracy': 0.9256198347107438,\n",
       " 'precision': 1.0,\n",
       " 'recall': 0.8615384615384616,\n",
       " 'F1-score': 0.9256198347107438}"
      ]
     },
     "execution_count": 41,
     "metadata": {},
     "output_type": "execute_result"
    }
   ],
   "source": [
    "classification_stats(tp, fp, tn, fn)"
   ]
  },
  {
   "cell_type": "markdown",
   "metadata": {},
   "source": [
    "#### percent difference from the median"
   ]
  },
  {
   "cell_type": "code",
   "execution_count": 42,
   "metadata": {},
   "outputs": [
    {
     "data": {
      "text/plain": [
       "{'accuracy': 0.926829268292683,\n",
       " 'precision': 0.9827586206896551,\n",
       " 'recall': 0.8769230769230769,\n",
       " 'F1-score': 0.9268292682926829}"
      ]
     },
     "execution_count": 42,
     "metadata": {},
     "output_type": "execute_result"
    }
   ],
   "source": [
    "medians = get_baselines(hourly_ip_logs, 'median')\n",
    "pct_from_median_ips = pct_change_threshold(hourly_ip_logs, medians)\n",
    "tp, fp, tn, fn = scores(pct_from_median_ips)\n",
    "classification_stats(tp, fp, tn, fn)"
   ]
  },
  {
   "cell_type": "markdown",
   "metadata": {},
   "source": [
    "#### comparing methods"
   ]
  },
  {
   "cell_type": "code",
   "execution_count": 43,
   "metadata": {},
   "outputs": [
    {
     "data": {
      "text/html": [
       "<div>\n",
       "<style scoped>\n",
       "    .dataframe tbody tr th:only-of-type {\n",
       "        vertical-align: middle;\n",
       "    }\n",
       "\n",
       "    .dataframe tbody tr th {\n",
       "        vertical-align: top;\n",
       "    }\n",
       "\n",
       "    .dataframe thead th {\n",
       "        text-align: right;\n",
       "    }\n",
       "</style>\n",
       "<table border=\"1\" class=\"dataframe\">\n",
       "  <thead>\n",
       "    <tr style=\"text-align: right;\">\n",
       "      <th></th>\n",
       "      <th>means</th>\n",
       "      <th>medians</th>\n",
       "      <th>tukey fence</th>\n",
       "      <th>z-scores</th>\n",
       "    </tr>\n",
       "  </thead>\n",
       "  <tbody>\n",
       "    <tr>\n",
       "      <th>F1-score</th>\n",
       "      <td>0.925620</td>\n",
       "      <td>0.926829</td>\n",
       "      <td>0.300000</td>\n",
       "      <td>0.166667</td>\n",
       "    </tr>\n",
       "    <tr>\n",
       "      <th>accuracy</th>\n",
       "      <td>0.925620</td>\n",
       "      <td>0.926829</td>\n",
       "      <td>0.300000</td>\n",
       "      <td>0.166667</td>\n",
       "    </tr>\n",
       "    <tr>\n",
       "      <th>precision</th>\n",
       "      <td>1.000000</td>\n",
       "      <td>0.982759</td>\n",
       "      <td>0.280000</td>\n",
       "      <td>0.857143</td>\n",
       "    </tr>\n",
       "    <tr>\n",
       "      <th>recall</th>\n",
       "      <td>0.861538</td>\n",
       "      <td>0.876923</td>\n",
       "      <td>0.323077</td>\n",
       "      <td>0.092308</td>\n",
       "    </tr>\n",
       "  </tbody>\n",
       "</table>\n",
       "</div>"
      ],
      "text/plain": [
       "              means   medians  tukey fence  z-scores\n",
       "F1-score   0.925620  0.926829     0.300000  0.166667\n",
       "accuracy   0.925620  0.926829     0.300000  0.166667\n",
       "precision  1.000000  0.982759     0.280000  0.857143\n",
       "recall     0.861538  0.876923     0.323077  0.092308"
      ]
     },
     "execution_count": 43,
     "metadata": {},
     "output_type": "execute_result"
    }
   ],
   "source": [
    "pd.DataFrame({\n",
    "    method : classification_stats(*scores(ips)) \\\n",
    "    for method, ips in {\n",
    "        'means' : pct_from_mean_ips,\n",
    "        'medians' : pct_from_median_ips,\n",
    "        'tukey fence' : tukey_fence_flags,\n",
    "        'z-scores' : z_score_ips\n",
    "    }.items()\n",
    "})"
   ]
  }
 ],
 "metadata": {
  "kernelspec": {
   "display_name": "Python 3",
   "language": "python",
   "name": "python3"
  },
  "language_info": {
   "codemirror_mode": {
    "name": "ipython",
    "version": 3
   },
   "file_extension": ".py",
   "mimetype": "text/x-python",
   "name": "python",
   "nbconvert_exporter": "python",
   "pygments_lexer": "ipython3",
   "version": "3.7.2"
  }
 },
 "nbformat": 4,
 "nbformat_minor": 2
}
