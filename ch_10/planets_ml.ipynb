{
 "cells": [
  {
   "cell_type": "markdown",
   "metadata": {},
   "source": [
    "# Analyzing out-of-this world data, Part 2\n",
    "Using data collected from the Open Exoplanet Catalogue database: https://github.com/OpenExoplanetCatalogue/open_exoplanet_catalogue/\n",
    "\n",
    "## Data License\n",
    "Copyright (C) 2012 Hanno Rein\n",
    "\n",
    "Permission is hereby granted, free of charge, to any person obtaining a copy of this database and associated scripts (the \"Database\"), to deal in the Database without restriction, including without limitation the rights to use, copy, modify, merge, publish, distribute, sublicense, and/or sell copies of the Database, and to permit persons to whom the Database is furnished to do so, subject to the following conditions:\n",
    "\n",
    "The above copyright notice and this permission notice shall be included in all copies or substantial portions of the Database. A reference to the Database shall be included in all scientific publications that make use of the Database.\n",
    "\n",
    "THE DATABASE IS PROVIDED \"AS IS\", WITHOUT WARRANTY OF ANY KIND, EXPRESS OR IMPLIED, INCLUDING BUT NOT LIMITED TO THE WARRANTIES OF MERCHANTABILITY, FITNESS FOR A PARTICULAR PURPOSE AND NONINFRINGEMENT. IN NO EVENT SHALL THE AUTHORS OR COPYRIGHT HOLDERS BE LIABLE FOR ANY CLAIM, DAMAGES OR OTHER LIABILITY, WHETHER IN AN ACTION OF CONTRACT, TORT OR OTHERWISE, ARISING FROM, OUT OF OR IN CONNECTION WITH THE DATABASE OR THE USE OR OTHER DEALINGS IN THE DATABASE."
   ]
  },
  {
   "cell_type": "markdown",
   "metadata": {},
   "source": [
    "## Setup"
   ]
  },
  {
   "cell_type": "code",
   "execution_count": 1,
   "metadata": {},
   "outputs": [],
   "source": [
    "%matplotlib inline\n",
    "\n",
    "import matplotlib.pyplot as plt\n",
    "import numpy as np\n",
    "import pandas as pd\n",
    "import seaborn as sns"
   ]
  },
  {
   "cell_type": "code",
   "execution_count": 2,
   "metadata": {},
   "outputs": [],
   "source": [
    "planets = pd.read_csv('data/planets.csv')"
   ]
  },
  {
   "cell_type": "markdown",
   "metadata": {},
   "source": [
    "Since we completed our EDA in the [planets_ml.ipynb notebook for last chapter](https://github.com/stefmolin/Hands-On-Data-Analysis-with-Pandas/blob/master/ch_09/planets_ml.ipynb), we will just look at the first 5 rows to refresh our memory of the data rather than repeating the EDA here."
   ]
  },
  {
   "cell_type": "code",
   "execution_count": 3,
   "metadata": {},
   "outputs": [
    {
     "data": {
      "text/html": [
       "<div>\n",
       "<style scoped>\n",
       "    .dataframe tbody tr th:only-of-type {\n",
       "        vertical-align: middle;\n",
       "    }\n",
       "\n",
       "    .dataframe tbody tr th {\n",
       "        vertical-align: top;\n",
       "    }\n",
       "\n",
       "    .dataframe thead th {\n",
       "        text-align: right;\n",
       "    }\n",
       "</style>\n",
       "<table border=\"1\" class=\"dataframe\">\n",
       "  <thead>\n",
       "    <tr style=\"text-align: right;\">\n",
       "      <th></th>\n",
       "      <th>period</th>\n",
       "      <th>name</th>\n",
       "      <th>eccentricity</th>\n",
       "      <th>description</th>\n",
       "      <th>discoverymethod</th>\n",
       "      <th>periastrontime</th>\n",
       "      <th>lastupdate</th>\n",
       "      <th>semimajoraxis</th>\n",
       "      <th>mass</th>\n",
       "      <th>periastron</th>\n",
       "      <th>list</th>\n",
       "      <th>discoveryyear</th>\n",
       "    </tr>\n",
       "  </thead>\n",
       "  <tbody>\n",
       "    <tr>\n",
       "      <th>0</th>\n",
       "      <td>326.03</td>\n",
       "      <td>11 Com b</td>\n",
       "      <td>0.231</td>\n",
       "      <td>11 Com b is a brown dwarf-mass companion to th...</td>\n",
       "      <td>RV</td>\n",
       "      <td>2452899.60</td>\n",
       "      <td>15/09/20</td>\n",
       "      <td>1.290</td>\n",
       "      <td>19.400</td>\n",
       "      <td>94.800</td>\n",
       "      <td>Confirmed planets</td>\n",
       "      <td>2008.0</td>\n",
       "    </tr>\n",
       "    <tr>\n",
       "      <th>1</th>\n",
       "      <td>516.22</td>\n",
       "      <td>11 UMi b</td>\n",
       "      <td>0.080</td>\n",
       "      <td>11 Ursae Minoris is a star located in the cons...</td>\n",
       "      <td>RV</td>\n",
       "      <td>2452861.04</td>\n",
       "      <td>15/09/20</td>\n",
       "      <td>1.540</td>\n",
       "      <td>11.200</td>\n",
       "      <td>117.630</td>\n",
       "      <td>Confirmed planets</td>\n",
       "      <td>2009.0</td>\n",
       "    </tr>\n",
       "    <tr>\n",
       "      <th>2</th>\n",
       "      <td>185.84</td>\n",
       "      <td>14 And b</td>\n",
       "      <td>0.000</td>\n",
       "      <td>14 Andromedae is an evolved star in the conste...</td>\n",
       "      <td>RV</td>\n",
       "      <td>2452861.40</td>\n",
       "      <td>15/09/20</td>\n",
       "      <td>0.830</td>\n",
       "      <td>4.800</td>\n",
       "      <td>0.000</td>\n",
       "      <td>Confirmed planets</td>\n",
       "      <td>2008.0</td>\n",
       "    </tr>\n",
       "    <tr>\n",
       "      <th>3</th>\n",
       "      <td>1766.00</td>\n",
       "      <td>14 Her b</td>\n",
       "      <td>0.359</td>\n",
       "      <td>The star 14 Herculis is only 59 light years aw...</td>\n",
       "      <td>RV</td>\n",
       "      <td>NaN</td>\n",
       "      <td>15/09/21</td>\n",
       "      <td>2.864</td>\n",
       "      <td>4.975</td>\n",
       "      <td>22.230</td>\n",
       "      <td>Confirmed planets</td>\n",
       "      <td>2002.0</td>\n",
       "    </tr>\n",
       "    <tr>\n",
       "      <th>4</th>\n",
       "      <td>9886.00</td>\n",
       "      <td>14 Her c</td>\n",
       "      <td>0.184</td>\n",
       "      <td>14 Her c is the second companion in the system...</td>\n",
       "      <td>RV</td>\n",
       "      <td>NaN</td>\n",
       "      <td>15/09/21</td>\n",
       "      <td>9.037</td>\n",
       "      <td>7.679</td>\n",
       "      <td>189.076</td>\n",
       "      <td>Controversial</td>\n",
       "      <td>2006.0</td>\n",
       "    </tr>\n",
       "  </tbody>\n",
       "</table>\n",
       "</div>"
      ],
      "text/plain": [
       "    period      name  eccentricity  \\\n",
       "0   326.03  11 Com b         0.231   \n",
       "1   516.22  11 UMi b         0.080   \n",
       "2   185.84  14 And b         0.000   \n",
       "3  1766.00  14 Her b         0.359   \n",
       "4  9886.00  14 Her c         0.184   \n",
       "\n",
       "                                         description discoverymethod  \\\n",
       "0  11 Com b is a brown dwarf-mass companion to th...              RV   \n",
       "1  11 Ursae Minoris is a star located in the cons...              RV   \n",
       "2  14 Andromedae is an evolved star in the conste...              RV   \n",
       "3  The star 14 Herculis is only 59 light years aw...              RV   \n",
       "4  14 Her c is the second companion in the system...              RV   \n",
       "\n",
       "   periastrontime lastupdate  semimajoraxis    mass  periastron  \\\n",
       "0      2452899.60   15/09/20          1.290  19.400      94.800   \n",
       "1      2452861.04   15/09/20          1.540  11.200     117.630   \n",
       "2      2452861.40   15/09/20          0.830   4.800       0.000   \n",
       "3             NaN   15/09/21          2.864   4.975      22.230   \n",
       "4             NaN   15/09/21          9.037   7.679     189.076   \n",
       "\n",
       "                list  discoveryyear  \n",
       "0  Confirmed planets         2008.0  \n",
       "1  Confirmed planets         2009.0  \n",
       "2  Confirmed planets         2008.0  \n",
       "3  Confirmed planets         2002.0  \n",
       "4      Controversial         2006.0  "
      ]
     },
     "execution_count": 3,
     "metadata": {},
     "output_type": "execute_result"
    }
   ],
   "source": [
    "planets.head()"
   ]
  },
  {
   "cell_type": "markdown",
   "metadata": {},
   "source": [
    "## Predicting Length of Year (Period)"
   ]
  },
  {
   "cell_type": "code",
   "execution_count": 4,
   "metadata": {},
   "outputs": [],
   "source": [
    "from sklearn.model_selection import train_test_split\n",
    "\n",
    "data = planets[\n",
    "    ['semimajoraxis', 'period', 'mass', 'eccentricity']\n",
    "].dropna()\n",
    "X = data[['semimajoraxis', 'mass', 'eccentricity']]\n",
    "y = data.period\n",
    "\n",
    "X_train, X_test, y_train, y_test = train_test_split(\n",
    "    X, y, test_size=0.25, random_state=0\n",
    ")"
   ]
  },
  {
   "cell_type": "markdown",
   "metadata": {},
   "source": [
    "### Hyperparameter Tuning with GridSearchCV"
   ]
  },
  {
   "cell_type": "code",
   "execution_count": 5,
   "metadata": {},
   "outputs": [],
   "source": [
    "from sklearn.linear_model import LinearRegression\n",
    "from sklearn.metrics import make_scorer, mean_squared_error\n",
    "from sklearn.model_selection import GridSearchCV\n",
    "from sklearn.pipeline import Pipeline\n",
    "from sklearn.preprocessing import StandardScaler\n",
    "\n",
    "model_pipeline = Pipeline([\n",
    "    ('scale', StandardScaler()),\n",
    "    ('lr', LinearRegression())\n",
    "])\n",
    "\n",
    "search_space = {\n",
    "    'scale__with_mean' : [True, False], 'scale__with_std' : [True, False],\n",
    "    'lr__fit_intercept': [True, False], 'lr__normalize' : [True, False]\n",
    "}\n",
    "grid = GridSearchCV(\n",
    "    model_pipeline, search_space, cv=5,\n",
    "    scoring={\n",
    "        'r_squared': 'r2', \n",
    "        'mse' : 'neg_mean_squared_error', \n",
    "        'mae' : 'neg_mean_absolute_error',\n",
    "        'rmse' : make_scorer(lambda x, y: np.sqrt(mean_squared_error(x, y)))\n",
    "    }, refit='mae', iid=False\n",
    ").fit(X_train, y_train)"
   ]
  },
  {
   "cell_type": "code",
   "execution_count": 6,
   "metadata": {},
   "outputs": [
    {
     "name": "stdout",
     "output_type": "stream",
     "text": [
      "Best parameter (CV score=-1605.538):\n",
      "{'lr__fit_intercept': False, 'lr__normalize': True, 'scale__with_mean': False, 'scale__with_std': True}\n"
     ]
    }
   ],
   "source": [
    "print(\"Best parameter (CV score=%0.3f):\" % grid.best_score_)\n",
    "print(grid.best_params_)"
   ]
  },
  {
   "cell_type": "code",
   "execution_count": 7,
   "metadata": {},
   "outputs": [
    {
     "data": {
      "text/plain": [
       "Text(0.5, 0.98, 'Logistic Regression with Grid Search')"
      ]
     },
     "execution_count": 7,
     "metadata": {},
     "output_type": "execute_result"
    },
    {
     "data": {
      "image/png": "[encoded data removed]",
      "text/plain": [
       "<Figure size 360x216 with 1 Axes>"
      ]
     },
     "metadata": {
      "needs_background": "light"
     },
     "output_type": "display_data"
    }
   ],
   "source": [
    "fig, axes = plt.subplots(1, 1, figsize=(5, 3))\n",
    "axes.plot(X_test.semimajoraxis, y_test, 'bo', label='actuals', alpha=0.5)\n",
    "axes.plot(X_test.semimajoraxis, grid.predict(X_test), 'ro', label='predictions', alpha=0.5)\n",
    "plt.xlabel('semimajoraxis')\n",
    "plt.ylabel('period')\n",
    "plt.legend()\n",
    "plt.suptitle('Logistic Regression with Grid Search')"
   ]
  },
  {
   "cell_type": "code",
   "execution_count": 8,
   "metadata": {},
   "outputs": [
    {
     "data": {
      "text/plain": [
       "-1235.4924651855556"
      ]
     },
     "execution_count": 8,
     "metadata": {},
     "output_type": "execute_result"
    }
   ],
   "source": [
    "# mean absolute error\n",
    "grid.score(X_test, y_test)"
   ]
  },
  {
   "cell_type": "code",
   "execution_count": 9,
   "metadata": {},
   "outputs": [
    {
     "data": {
      "text/plain": [
       "0.9227221271755528"
      ]
     },
     "execution_count": 9,
     "metadata": {},
     "output_type": "execute_result"
    }
   ],
   "source": [
    "# r squared\n",
    "grid.best_estimator_.score(X_test, y_test)"
   ]
  },
  {
   "cell_type": "markdown",
   "metadata": {},
   "source": [
    "### Regularization"
   ]
  },
  {
   "cell_type": "code",
   "execution_count": 10,
   "metadata": {},
   "outputs": [
    {
     "name": "stdout",
     "output_type": "stream",
     "text": [
      "Ridge: 0.9302\n",
      "Lasso: 0.9298\n",
      "ElasticNet: 0.9375\n"
     ]
    }
   ],
   "source": [
    "from sklearn.linear_model import Ridge, Lasso, ElasticNet\n",
    "\n",
    "ridge, lasso, elastic = Ridge(), Lasso(), ElasticNet()\n",
    "\n",
    "for method in [ridge, lasso, elastic]:\n",
    "    method.fit(X_train, y_train)\n",
    "    print(\n",
    "        f'{method.__class__.__name__}: '\n",
    "        f'{method.score(X_test, y_test):.4}'\n",
    "    )"
   ]
  }
 ],
 "metadata": {
  "kernelspec": {
   "display_name": "Python 3",
   "language": "python",
   "name": "python3"
  },
  "language_info": {
   "codemirror_mode": {
    "name": "ipython",
    "version": 3
   },
   "file_extension": ".py",
   "mimetype": "text/x-python",
   "name": "python",
   "nbconvert_exporter": "python",
   "pygments_lexer": "ipython3",
   "version": "3.6.4"
  }
 },
 "nbformat": 4,
 "nbformat_minor": 2
}
