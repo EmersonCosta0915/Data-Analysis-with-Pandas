{
 "cells": [
  {
   "cell_type": "markdown",
   "metadata": {},
   "source": [
    "# Exploratory data analysis on unlabeled data\n",
    "We don't have labeled data yet, but we can still examine the data to see if there is something that stands out. \n",
    "\n",
    "## Setup"
   ]
  },
  {
   "cell_type": "code",
   "execution_count": 1,
   "metadata": {},
   "outputs": [],
   "source": [
    "%matplotlib inline\n",
    "import matplotlib.pyplot as plt\n",
    "import numpy as np\n",
    "import pandas as pd\n",
    "import seaborn as sns"
   ]
  },
  {
   "cell_type": "code",
   "execution_count": 2,
   "metadata": {},
   "outputs": [
    {
     "data": {
      "text/html": [
       "<div>\n",
       "<style scoped>\n",
       "    .dataframe tbody tr th:only-of-type {\n",
       "        vertical-align: middle;\n",
       "    }\n",
       "\n",
       "    .dataframe tbody tr th {\n",
       "        vertical-align: top;\n",
       "    }\n",
       "\n",
       "    .dataframe thead th {\n",
       "        text-align: right;\n",
       "    }\n",
       "</style>\n",
       "<table border=\"1\" class=\"dataframe\">\n",
       "  <thead>\n",
       "    <tr style=\"text-align: right;\">\n",
       "      <th></th>\n",
       "      <th>source_ip</th>\n",
       "      <th>username</th>\n",
       "      <th>success</th>\n",
       "      <th>failure_reason</th>\n",
       "    </tr>\n",
       "    <tr>\n",
       "      <th>datetime</th>\n",
       "      <th></th>\n",
       "      <th></th>\n",
       "      <th></th>\n",
       "      <th></th>\n",
       "    </tr>\n",
       "  </thead>\n",
       "  <tbody>\n",
       "    <tr>\n",
       "      <th>2018-01-01 00:00:54.641251</th>\n",
       "      <td>41.253.247.255</td>\n",
       "      <td>admin</td>\n",
       "      <td>True</td>\n",
       "      <td>NaN</td>\n",
       "    </tr>\n",
       "    <tr>\n",
       "      <th>2018-01-01 01:17:56.801849</th>\n",
       "      <td>230.71.97.153</td>\n",
       "      <td>zbrown</td>\n",
       "      <td>True</td>\n",
       "      <td>NaN</td>\n",
       "    </tr>\n",
       "    <tr>\n",
       "      <th>2018-01-01 02:48:52.437529</th>\n",
       "      <td>204.205.71.171</td>\n",
       "      <td>ckim</td>\n",
       "      <td>True</td>\n",
       "      <td>NaN</td>\n",
       "    </tr>\n",
       "    <tr>\n",
       "      <th>2018-01-01 03:32:15.644139</th>\n",
       "      <td>126.228.43.201</td>\n",
       "      <td>qjones</td>\n",
       "      <td>True</td>\n",
       "      <td>NaN</td>\n",
       "    </tr>\n",
       "    <tr>\n",
       "      <th>2018-01-01 03:50:42.710112</th>\n",
       "      <td>204.205.71.171</td>\n",
       "      <td>ckim</td>\n",
       "      <td>True</td>\n",
       "      <td>NaN</td>\n",
       "    </tr>\n",
       "  </tbody>\n",
       "</table>\n",
       "</div>"
      ],
      "text/plain": [
       "                                 source_ip username  success failure_reason\n",
       "datetime                                                                   \n",
       "2018-01-01 00:00:54.641251  41.253.247.255    admin     True            NaN\n",
       "2018-01-01 01:17:56.801849   230.71.97.153   zbrown     True            NaN\n",
       "2018-01-01 02:48:52.437529  204.205.71.171     ckim     True            NaN\n",
       "2018-01-01 03:32:15.644139  126.228.43.201   qjones     True            NaN\n",
       "2018-01-01 03:50:42.710112  204.205.71.171     ckim     True            NaN"
      ]
     },
     "execution_count": 2,
     "metadata": {},
     "output_type": "execute_result"
    }
   ],
   "source": [
    "logs_2018 = pd.read_csv('logs/logs_2018.csv', index_col='datetime', parse_dates=True)\n",
    "logs_2018.head()"
   ]
  },
  {
   "cell_type": "markdown",
   "metadata": {},
   "source": [
    "## EDA"
   ]
  },
  {
   "cell_type": "code",
   "execution_count": 3,
   "metadata": {},
   "outputs": [
    {
     "data": {
      "text/plain": [
       "source_ip         object\n",
       "username          object\n",
       "success             bool\n",
       "failure_reason    object\n",
       "dtype: object"
      ]
     },
     "execution_count": 3,
     "metadata": {},
     "output_type": "execute_result"
    }
   ],
   "source": [
    "logs_2018.dtypes"
   ]
  },
  {
   "cell_type": "code",
   "execution_count": 4,
   "metadata": {},
   "outputs": [
    {
     "name": "stdout",
     "output_type": "stream",
     "text": [
      "<class 'pandas.core.frame.DataFrame'>\n",
      "DatetimeIndex: 48551 entries, 2018-01-01 00:00:54.641251 to 2018-12-31 23:53:21.101205\n",
      "Data columns (total 4 columns):\n",
      "source_ip         48551 non-null object\n",
      "username          48551 non-null object\n",
      "success           48551 non-null bool\n",
      "failure_reason    28009 non-null object\n",
      "dtypes: bool(1), object(3)\n",
      "memory usage: 995.7+ KB\n"
     ]
    }
   ],
   "source": [
    "logs_2018.info()"
   ]
  },
  {
   "cell_type": "code",
   "execution_count": 5,
   "metadata": {},
   "outputs": [
    {
     "data": {
      "text/html": [
       "<div>\n",
       "<style scoped>\n",
       "    .dataframe tbody tr th:only-of-type {\n",
       "        vertical-align: middle;\n",
       "    }\n",
       "\n",
       "    .dataframe tbody tr th {\n",
       "        vertical-align: top;\n",
       "    }\n",
       "\n",
       "    .dataframe thead th {\n",
       "        text-align: right;\n",
       "    }\n",
       "</style>\n",
       "<table border=\"1\" class=\"dataframe\">\n",
       "  <thead>\n",
       "    <tr style=\"text-align: right;\">\n",
       "      <th></th>\n",
       "      <th>source_ip</th>\n",
       "      <th>username</th>\n",
       "      <th>success</th>\n",
       "      <th>failure_reason</th>\n",
       "    </tr>\n",
       "  </thead>\n",
       "  <tbody>\n",
       "    <tr>\n",
       "      <th>count</th>\n",
       "      <td>48551</td>\n",
       "      <td>48551</td>\n",
       "      <td>48551</td>\n",
       "      <td>28009</td>\n",
       "    </tr>\n",
       "    <tr>\n",
       "      <th>unique</th>\n",
       "      <td>9707</td>\n",
       "      <td>4196</td>\n",
       "      <td>2</td>\n",
       "      <td>3</td>\n",
       "    </tr>\n",
       "    <tr>\n",
       "      <th>top</th>\n",
       "      <td>132.124.26.73</td>\n",
       "      <td>kim</td>\n",
       "      <td>False</td>\n",
       "      <td>error_wrong_username</td>\n",
       "    </tr>\n",
       "    <tr>\n",
       "      <th>freq</th>\n",
       "      <td>306</td>\n",
       "      <td>388</td>\n",
       "      <td>28009</td>\n",
       "      <td>14475</td>\n",
       "    </tr>\n",
       "  </tbody>\n",
       "</table>\n",
       "</div>"
      ],
      "text/plain": [
       "            source_ip username success        failure_reason\n",
       "count           48551    48551   48551                 28009\n",
       "unique           9707     4196       2                     3\n",
       "top     132.124.26.73      kim   False  error_wrong_username\n",
       "freq              306      388   28009                 14475"
      ]
     },
     "execution_count": 5,
     "metadata": {},
     "output_type": "execute_result"
    }
   ],
   "source": [
    "logs_2018.describe()"
   ]
  },
  {
   "cell_type": "markdown",
   "metadata": {},
   "source": [
    "### Distinct users per IP"
   ]
  },
  {
   "cell_type": "code",
   "execution_count": 6,
   "metadata": {},
   "outputs": [
    {
     "data": {
      "text/plain": [
       "count      35.000000\n",
       "mean      277.342857\n",
       "std      1436.042703\n",
       "min         1.000000\n",
       "25%         1.000000\n",
       "50%         5.000000\n",
       "75%        12.500000\n",
       "max      8475.000000\n",
       "Name: username, dtype: float64"
      ]
     },
     "execution_count": 6,
     "metadata": {},
     "output_type": "execute_result"
    }
   ],
   "source": [
    "logs_2018.groupby('source_ip').agg(\n",
    "    dict(username='nunique')\n",
    ").username.value_counts().describe()"
   ]
  },
  {
   "cell_type": "markdown",
   "metadata": {},
   "source": [
    "### Calculate metrics per IP"
   ]
  },
  {
   "cell_type": "code",
   "execution_count": 7,
   "metadata": {},
   "outputs": [
    {
     "data": {
      "text/html": [
       "<div>\n",
       "<style scoped>\n",
       "    .dataframe tbody tr th:only-of-type {\n",
       "        vertical-align: middle;\n",
       "    }\n",
       "\n",
       "    .dataframe tbody tr th {\n",
       "        vertical-align: top;\n",
       "    }\n",
       "\n",
       "    .dataframe thead th {\n",
       "        text-align: right;\n",
       "    }\n",
       "</style>\n",
       "<table border=\"1\" class=\"dataframe\">\n",
       "  <thead>\n",
       "    <tr style=\"text-align: right;\">\n",
       "      <th>failure_reason</th>\n",
       "      <th>attempts</th>\n",
       "      <th>error_account_locked</th>\n",
       "      <th>error_wrong_password</th>\n",
       "      <th>error_wrong_username</th>\n",
       "      <th>success</th>\n",
       "      <th>success_rate</th>\n",
       "      <th>error_rate</th>\n",
       "    </tr>\n",
       "    <tr>\n",
       "      <th>source_ip</th>\n",
       "      <th></th>\n",
       "      <th></th>\n",
       "      <th></th>\n",
       "      <th></th>\n",
       "      <th></th>\n",
       "      <th></th>\n",
       "      <th></th>\n",
       "    </tr>\n",
       "  </thead>\n",
       "  <tbody>\n",
       "    <tr>\n",
       "      <th>132.124.26.73</th>\n",
       "      <td>306</td>\n",
       "      <td>15</td>\n",
       "      <td>60</td>\n",
       "      <td>48</td>\n",
       "      <td>183</td>\n",
       "      <td>0.598039</td>\n",
       "      <td>0.401961</td>\n",
       "    </tr>\n",
       "    <tr>\n",
       "      <th>16.118.156.50</th>\n",
       "      <td>288</td>\n",
       "      <td>25</td>\n",
       "      <td>51</td>\n",
       "      <td>54</td>\n",
       "      <td>158</td>\n",
       "      <td>0.548611</td>\n",
       "      <td>0.451389</td>\n",
       "    </tr>\n",
       "    <tr>\n",
       "      <th>82.151.213.13</th>\n",
       "      <td>285</td>\n",
       "      <td>17</td>\n",
       "      <td>57</td>\n",
       "      <td>49</td>\n",
       "      <td>162</td>\n",
       "      <td>0.568421</td>\n",
       "      <td>0.431579</td>\n",
       "    </tr>\n",
       "    <tr>\n",
       "      <th>208.101.11.88</th>\n",
       "      <td>285</td>\n",
       "      <td>11</td>\n",
       "      <td>54</td>\n",
       "      <td>52</td>\n",
       "      <td>168</td>\n",
       "      <td>0.589474</td>\n",
       "      <td>0.410526</td>\n",
       "    </tr>\n",
       "    <tr>\n",
       "      <th>204.205.71.171</th>\n",
       "      <td>281</td>\n",
       "      <td>18</td>\n",
       "      <td>59</td>\n",
       "      <td>43</td>\n",
       "      <td>161</td>\n",
       "      <td>0.572954</td>\n",
       "      <td>0.427046</td>\n",
       "    </tr>\n",
       "  </tbody>\n",
       "</table>\n",
       "</div>"
      ],
      "text/plain": [
       "failure_reason  attempts  error_account_locked  error_wrong_password  \\\n",
       "source_ip                                                              \n",
       "132.124.26.73        306                    15                    60   \n",
       "16.118.156.50        288                    25                    51   \n",
       "82.151.213.13        285                    17                    57   \n",
       "208.101.11.88        285                    11                    54   \n",
       "204.205.71.171       281                    18                    59   \n",
       "\n",
       "failure_reason  error_wrong_username  success  success_rate  error_rate  \n",
       "source_ip                                                                \n",
       "132.124.26.73                     48      183      0.598039    0.401961  \n",
       "16.118.156.50                     54      158      0.548611    0.451389  \n",
       "82.151.213.13                     49      162      0.568421    0.431579  \n",
       "208.101.11.88                     52      168      0.589474    0.410526  \n",
       "204.205.71.171                    43      161      0.572954    0.427046  "
      ]
     },
     "execution_count": 7,
     "metadata": {},
     "output_type": "execute_result"
    }
   ],
   "source": [
    "pivot = pd.pivot_table(\n",
    "    logs_2018, values='success', index=logs_2018.source_ip, \n",
    "    columns=logs_2018.failure_reason.fillna('success'), \n",
    "    aggfunc='count', fill_value=0\n",
    ")\n",
    "pivot.insert(0, 'attempts', pivot.sum(axis=1))\n",
    "pivot = pivot.sort_values('attempts', ascending=False).assign(\n",
    "    success_rate=lambda x: x.success / x.attempts,\n",
    "    error_rate=lambda x: 1 - x.success_rate\n",
    ")\n",
    "pivot.head()"
   ]
  },
  {
   "cell_type": "markdown",
   "metadata": {},
   "source": [
    "### Visual Anomaly Detection"
   ]
  },
  {
   "cell_type": "code",
   "execution_count": 8,
   "metadata": {},
   "outputs": [
    {
     "data": {
      "text/plain": [
       "<matplotlib.axes._subplots.AxesSubplot at 0x1ae3a170>"
      ]
     },
     "execution_count": 8,
     "metadata": {},
     "output_type": "execute_result"
    },
    {
     "data": {
      "image/png": "[encoded data removed]",
      "text/plain": [
       "<Figure size 432x288 with 1 Axes>"
      ]
     },
     "metadata": {
      "needs_background": "light"
     },
     "output_type": "display_data"
    }
   ],
   "source": [
    "pivot.plot(\n",
    "    kind='scatter', x='attempts', y='success', \n",
    "    title='successes vs. attempts by IP', alpha=0.25\n",
    ")"
   ]
  },
  {
   "cell_type": "code",
   "execution_count": 9,
   "metadata": {},
   "outputs": [
    {
     "data": {
      "text/plain": [
       "<matplotlib.legend.Legend at 0x1afe5930>"
      ]
     },
     "execution_count": 9,
     "metadata": {},
     "output_type": "execute_result"
    },
    {
     "data": {
      "image/png": "[encoded data removed]",
      "text/plain": [
       "<Figure size 432x288 with 1 Axes>"
      ]
     },
     "metadata": {
      "needs_background": "light"
     },
     "output_type": "display_data"
    }
   ],
   "source": [
    "ax = pivot.plot(\n",
    "    kind='scatter', x='attempts', y='success', \n",
    "    title='successes vs. attempts by IP', alpha=0.25\n",
    ")\n",
    "x = np.linspace(0, 400)\n",
    "ax.plot(x, .25*x + 10, 'r--', label='sample boundary')\n",
    "plt.ylim(0, None)\n",
    "plt.legend()"
   ]
  },
  {
   "cell_type": "markdown",
   "metadata": {},
   "source": [
    "More IPs are hacker IPs because they get a new IP for each attack, while the valid users stick with the 1-3 they have. This makes the outliers on successes the valid users instead of the hackers."
   ]
  },
  {
   "cell_type": "code",
   "execution_count": 10,
   "metadata": {},
   "outputs": [
    {
     "data": {
      "text/plain": [
       "attempts       AxesSubplot(0.125,0.125;0.352273x0.755)\n",
       "success     AxesSubplot(0.547727,0.125;0.352273x0.755)\n",
       "dtype: object"
      ]
     },
     "execution_count": 10,
     "metadata": {},
     "output_type": "execute_result"
    },
    {
     "data": {
      "image/png": "[encoded data removed]",
      "text/plain": [
       "<Figure size 720x216 with 2 Axes>"
      ]
     },
     "metadata": {
      "needs_background": "light"
     },
     "output_type": "display_data"
    }
   ],
   "source": [
    "pivot[['attempts', 'success']].plot(\n",
    "    kind='box', subplots=True, figsize=(10, 3),\n",
    "    title='stats per IP'\n",
    ")"
   ]
  },
  {
   "cell_type": "markdown",
   "metadata": {},
   "source": [
    "Does looking at this on a minute resolution make anything stand out?"
   ]
  },
  {
   "cell_type": "code",
   "execution_count": 11,
   "metadata": {},
   "outputs": [
    {
     "data": {
      "image/png": "[encoded data removed]",
      "text/plain": [
       "<Figure size 1440x216 with 3 Axes>"
      ]
     },
     "metadata": {
      "needs_background": "light"
     },
     "output_type": "display_data"
    }
   ],
   "source": [
    "ax = logs_2018['2018-01-01':'2018-01-07'].assign(\n",
    "    failures=lambda x: np.invert(x.success)\n",
    ").groupby('source_ip').resample('1min').agg(\n",
    "    {'username': 'nunique', 'success':'sum', 'failures': 'sum'}\n",
    ").assign(\n",
    "    attempts=lambda x: x.success + x.failures\n",
    ").dropna().query('attempts > 0').reset_index().plot(\n",
    "    y=['attempts', 'username', 'failures'], kind='hist',\n",
    "    subplots=True, layout=(1, 3), figsize=(20, 3),\n",
    "    title='January 1-7, 2018 distributions of minutely stats by IP'\n",
    ")"
   ]
  },
  {
   "cell_type": "markdown",
   "metadata": {},
   "source": [
    "There seems to be something with the number of usernames with failures per minute that we can use."
   ]
  },
  {
   "cell_type": "code",
   "execution_count": 12,
   "metadata": {},
   "outputs": [
    {
     "data": {
      "text/plain": [
       "<matplotlib.axes._subplots.AxesSubplot at 0x1b74dc70>"
      ]
     },
     "execution_count": 12,
     "metadata": {},
     "output_type": "execute_result"
    },
    {
     "data": {
      "image/png": "[encoded data removed]",
      "text/plain": [
       "<Figure size 1080x216 with 1 Axes>"
      ]
     },
     "metadata": {
      "needs_background": "light"
     },
     "output_type": "display_data"
    }
   ],
   "source": [
    "logs_2018['2018'].assign(\n",
    "    failures=lambda x: np.invert(x.success)\n",
    ").query('failures').resample('1min').agg(\n",
    "    {'username':'nunique', 'failures': 'sum'}\n",
    ").dropna().rename(\n",
    "    columns={'username':'usernames_with_failures'}\n",
    ").usernames_with_failures.plot(\n",
    "    title='usernames with failures per minute in 2018',\n",
    "    figsize=(15, 3)\n",
    ")"
   ]
  }
 ],
 "metadata": {
  "kernelspec": {
   "display_name": "Python 3",
   "language": "python",
   "name": "python3"
  },
  "language_info": {
   "codemirror_mode": {
    "name": "ipython",
    "version": 3
   },
   "file_extension": ".py",
   "mimetype": "text/x-python",
   "name": "python",
   "nbconvert_exporter": "python",
   "pygments_lexer": "ipython3",
   "version": "3.6.4"
  }
 },
 "nbformat": 4,
 "nbformat_minor": 2
}
