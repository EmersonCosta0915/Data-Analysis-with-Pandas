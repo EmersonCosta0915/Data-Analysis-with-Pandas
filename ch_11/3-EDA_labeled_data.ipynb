{
 "cells": [
  {
   "cell_type": "markdown",
   "metadata": {},
   "source": [
    "# Exploratory data analysis with labeled data\n",
    "Now that we have the labels for our data, we can do some initial EDA to see if there is something different between the hackers and the valid users.\n",
    "\n",
    "## Setup"
   ]
  },
  {
   "cell_type": "code",
   "execution_count": 1,
   "metadata": {},
   "outputs": [],
   "source": [
    "%matplotlib inline\n",
    "import matplotlib.pyplot as plt\n",
    "import numpy as np\n",
    "import pandas as pd\n",
    "import seaborn as sns"
   ]
  },
  {
   "cell_type": "code",
   "execution_count": 2,
   "metadata": {},
   "outputs": [
    {
     "data": {
      "text/html": [
       "<div>\n",
       "<style scoped>\n",
       "    .dataframe tbody tr th:only-of-type {\n",
       "        vertical-align: middle;\n",
       "    }\n",
       "\n",
       "    .dataframe tbody tr th {\n",
       "        vertical-align: top;\n",
       "    }\n",
       "\n",
       "    .dataframe thead th {\n",
       "        text-align: right;\n",
       "    }\n",
       "</style>\n",
       "<table border=\"1\" class=\"dataframe\">\n",
       "  <thead>\n",
       "    <tr style=\"text-align: right;\">\n",
       "      <th></th>\n",
       "      <th>start</th>\n",
       "      <th>end</th>\n",
       "      <th>source_ip</th>\n",
       "      <th>duration</th>\n",
       "      <th>start_floor</th>\n",
       "      <th>end_ceil</th>\n",
       "    </tr>\n",
       "  </thead>\n",
       "  <tbody>\n",
       "    <tr>\n",
       "      <th>0</th>\n",
       "      <td>2018-01-06 18:16:31.457615</td>\n",
       "      <td>2018-01-06 18:20:36.457615</td>\n",
       "      <td>36.157.72.36</td>\n",
       "      <td>00:04:05</td>\n",
       "      <td>2018-01-06 18:16:00</td>\n",
       "      <td>2018-01-06 18:21:00</td>\n",
       "    </tr>\n",
       "    <tr>\n",
       "      <th>1</th>\n",
       "      <td>2018-01-07 02:56:36.250248</td>\n",
       "      <td>2018-01-07 02:57:44.250248</td>\n",
       "      <td>223.110.52.156</td>\n",
       "      <td>00:01:08</td>\n",
       "      <td>2018-01-07 02:56:00</td>\n",
       "      <td>2018-01-07 02:58:00</td>\n",
       "    </tr>\n",
       "    <tr>\n",
       "      <th>2</th>\n",
       "      <td>2018-01-18 18:17:38.528300</td>\n",
       "      <td>2018-01-18 18:21:29.528300</td>\n",
       "      <td>197.93.26.109</td>\n",
       "      <td>00:03:51</td>\n",
       "      <td>2018-01-18 18:17:00</td>\n",
       "      <td>2018-01-18 18:22:00</td>\n",
       "    </tr>\n",
       "    <tr>\n",
       "      <th>3</th>\n",
       "      <td>2018-01-26 10:19:44.261965</td>\n",
       "      <td>2018-01-26 10:20:52.261965</td>\n",
       "      <td>128.95.219.5</td>\n",
       "      <td>00:01:08</td>\n",
       "      <td>2018-01-26 10:19:00</td>\n",
       "      <td>2018-01-26 10:21:00</td>\n",
       "    </tr>\n",
       "    <tr>\n",
       "      <th>4</th>\n",
       "      <td>2018-01-28 01:05:32.451123</td>\n",
       "      <td>2018-01-28 01:09:33.451123</td>\n",
       "      <td>187.62.145.110</td>\n",
       "      <td>00:04:01</td>\n",
       "      <td>2018-01-28 01:05:00</td>\n",
       "      <td>2018-01-28 01:10:00</td>\n",
       "    </tr>\n",
       "  </tbody>\n",
       "</table>\n",
       "</div>"
      ],
      "text/plain": [
       "                       start                        end       source_ip  \\\n",
       "0 2018-01-06 18:16:31.457615 2018-01-06 18:20:36.457615    36.157.72.36   \n",
       "1 2018-01-07 02:56:36.250248 2018-01-07 02:57:44.250248  223.110.52.156   \n",
       "2 2018-01-18 18:17:38.528300 2018-01-18 18:21:29.528300   197.93.26.109   \n",
       "3 2018-01-26 10:19:44.261965 2018-01-26 10:20:52.261965    128.95.219.5   \n",
       "4 2018-01-28 01:05:32.451123 2018-01-28 01:09:33.451123  187.62.145.110   \n",
       "\n",
       "  duration         start_floor            end_ceil  \n",
       "0 00:04:05 2018-01-06 18:16:00 2018-01-06 18:21:00  \n",
       "1 00:01:08 2018-01-07 02:56:00 2018-01-07 02:58:00  \n",
       "2 00:03:51 2018-01-18 18:17:00 2018-01-18 18:22:00  \n",
       "3 00:01:08 2018-01-26 10:19:00 2018-01-26 10:21:00  \n",
       "4 00:04:01 2018-01-28 01:05:00 2018-01-28 01:10:00  "
      ]
     },
     "execution_count": 2,
     "metadata": {},
     "output_type": "execute_result"
    }
   ],
   "source": [
    "logs_2018 = pd.read_csv('logs/logs_2018.csv', index_col='datetime', parse_dates=True)\n",
    "\n",
    "hackers_2018 = pd.read_csv(\n",
    "    'logs/hackers_2018.csv', \n",
    "    converters={'start' : np.datetime64, 'end': np.datetime64}\n",
    ").assign(\n",
    "    duration=lambda x: x.end - x.start, \n",
    "    start_floor=lambda x: x.start.dt.floor('min'),\n",
    "    end_ceil=lambda x: x.end.dt.ceil('min')\n",
    ")\n",
    "hackers_2018.head()"
   ]
  },
  {
   "cell_type": "code",
   "execution_count": 3,
   "metadata": {},
   "outputs": [],
   "source": [
    "def check_if_hacker(datetimes, hackers, resolution='1min'):\n",
    "    date_ranges = hackers.apply(\n",
    "        lambda x: pd.date_range(x.start_floor, x.end_ceil, freq=resolution), \n",
    "        axis=1\n",
    "    )\n",
    "    dates = pd.Series()\n",
    "    for date_range in date_ranges:\n",
    "        dates = pd.concat([dates, date_range.to_series()])\n",
    "    return datetimes.isin(dates)"
   ]
  },
  {
   "cell_type": "code",
   "execution_count": 4,
   "metadata": {},
   "outputs": [
    {
     "data": {
      "text/html": [
       "<div>\n",
       "<style scoped>\n",
       "    .dataframe tbody tr th:only-of-type {\n",
       "        vertical-align: middle;\n",
       "    }\n",
       "\n",
       "    .dataframe tbody tr th {\n",
       "        vertical-align: top;\n",
       "    }\n",
       "\n",
       "    .dataframe thead th {\n",
       "        text-align: right;\n",
       "    }\n",
       "</style>\n",
       "<table border=\"1\" class=\"dataframe\">\n",
       "  <thead>\n",
       "    <tr style=\"text-align: right;\">\n",
       "      <th></th>\n",
       "      <th>usernames_with_failures</th>\n",
       "      <th>failures</th>\n",
       "      <th>flag</th>\n",
       "    </tr>\n",
       "    <tr>\n",
       "      <th>datetime</th>\n",
       "      <th></th>\n",
       "      <th></th>\n",
       "      <th></th>\n",
       "    </tr>\n",
       "  </thead>\n",
       "  <tbody>\n",
       "    <tr>\n",
       "      <th>2018-01-01 04:12:00</th>\n",
       "      <td>2</td>\n",
       "      <td>3.0</td>\n",
       "      <td>False</td>\n",
       "    </tr>\n",
       "    <tr>\n",
       "      <th>2018-01-01 04:13:00</th>\n",
       "      <td>0</td>\n",
       "      <td>0.0</td>\n",
       "      <td>False</td>\n",
       "    </tr>\n",
       "    <tr>\n",
       "      <th>2018-01-01 04:14:00</th>\n",
       "      <td>0</td>\n",
       "      <td>0.0</td>\n",
       "      <td>False</td>\n",
       "    </tr>\n",
       "    <tr>\n",
       "      <th>2018-01-01 04:15:00</th>\n",
       "      <td>0</td>\n",
       "      <td>0.0</td>\n",
       "      <td>False</td>\n",
       "    </tr>\n",
       "    <tr>\n",
       "      <th>2018-01-01 04:16:00</th>\n",
       "      <td>0</td>\n",
       "      <td>0.0</td>\n",
       "      <td>False</td>\n",
       "    </tr>\n",
       "  </tbody>\n",
       "</table>\n",
       "</div>"
      ],
      "text/plain": [
       "                     usernames_with_failures  failures   flag\n",
       "datetime                                                     \n",
       "2018-01-01 04:12:00                        2       3.0  False\n",
       "2018-01-01 04:13:00                        0       0.0  False\n",
       "2018-01-01 04:14:00                        0       0.0  False\n",
       "2018-01-01 04:15:00                        0       0.0  False\n",
       "2018-01-01 04:16:00                        0       0.0  False"
      ]
     },
     "execution_count": 4,
     "metadata": {},
     "output_type": "execute_result"
    }
   ],
   "source": [
    "users_with_failures = logs_2018['2018-Q1'].assign(\n",
    "    failures=lambda x: np.invert(x.success)\n",
    ").query('failures').resample('1min').agg(\n",
    "    {'username':'nunique', 'failures': 'sum'}\n",
    ").dropna().rename(\n",
    "    columns={'username':'usernames_with_failures'}\n",
    ")\n",
    "labels = check_if_hacker(users_with_failures.reset_index().datetime, hackers_2018)\n",
    "users_with_failures['flag'] = labels[:users_with_failures.shape[0]].values\n",
    "users_with_failures.head()"
   ]
  },
  {
   "cell_type": "code",
   "execution_count": 5,
   "metadata": {},
   "outputs": [
    {
     "data": {
      "text/plain": [
       "Text(0.5, 0.98, 'Usernames with failures on minute resolution')"
      ]
     },
     "execution_count": 5,
     "metadata": {},
     "output_type": "execute_result"
    },
    {
     "data": {
      "image/png": "[encoded data removed]",
      "text/plain": [
       "<Figure size 432x288 with 1 Axes>"
      ]
     },
     "metadata": {
      "needs_background": "light"
     },
     "output_type": "display_data"
    }
   ],
   "source": [
    "ax = sns.scatterplot(\n",
    "    x=users_with_failures.usernames_with_failures, \n",
    "    y=users_with_failures.failures, alpha=0.25,\n",
    "    hue=users_with_failures.flag\n",
    ")\n",
    "x = np.linspace(0, 40)\n",
    "ax.plot(x, 12 - 2*x, 'r--', label='sample boundary')\n",
    "plt.ylim(-5, None)\n",
    "plt.legend()\n",
    "plt.suptitle('Usernames with failures on minute resolution')"
   ]
  }
 ],
 "metadata": {
  "kernelspec": {
   "display_name": "Python 3",
   "language": "python",
   "name": "python3"
  },
  "language_info": {
   "codemirror_mode": {
    "name": "ipython",
    "version": 3
   },
   "file_extension": ".py",
   "mimetype": "text/x-python",
   "name": "python",
   "nbconvert_exporter": "python",
   "pygments_lexer": "ipython3",
   "version": "3.6.4"
  }
 },
 "nbformat": 4,
 "nbformat_minor": 2
}
