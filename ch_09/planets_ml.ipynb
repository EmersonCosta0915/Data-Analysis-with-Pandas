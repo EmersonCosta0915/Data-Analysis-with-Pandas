{
 "cells": [
  {
   "cell_type": "markdown",
   "metadata": {},
   "source": [
    "# Analyzing out-of-this world data\n",
    "Using data collected from the Open Exoplanet Catalogue database: https://github.com/OpenExoplanetCatalogue/open_exoplanet_catalogue/\n",
    "\n",
    "## Data License\n",
    "Copyright (C) 2012 Hanno Rein\n",
    "\n",
    "Permission is hereby granted, free of charge, to any person obtaining a copy of this database and associated scripts (the \"Database\"), to deal in the Database without restriction, including without limitation the rights to use, copy, modify, merge, publish, distribute, sublicense, and/or sell copies of the Database, and to permit persons to whom the Database is furnished to do so, subject to the following conditions:\n",
    "\n",
    "The above copyright notice and this permission notice shall be included in all copies or substantial portions of the Database. A reference to the Database shall be included in all scientific publications that make use of the Database.\n",
    "\n",
    "THE DATABASE IS PROVIDED \"AS IS\", WITHOUT WARRANTY OF ANY KIND, EXPRESS OR IMPLIED, INCLUDING BUT NOT LIMITED TO THE WARRANTIES OF MERCHANTABILITY, FITNESS FOR A PARTICULAR PURPOSE AND NONINFRINGEMENT. IN NO EVENT SHALL THE AUTHORS OR COPYRIGHT HOLDERS BE LIABLE FOR ANY CLAIM, DAMAGES OR OTHER LIABILITY, WHETHER IN AN ACTION OF CONTRACT, TORT OR OTHERWISE, ARISING FROM, OUT OF OR IN CONNECTION WITH THE DATABASE OR THE USE OR OTHER DEALINGS IN THE DATABASE."
   ]
  },
  {
   "cell_type": "markdown",
   "metadata": {},
   "source": [
    "## Setup"
   ]
  },
  {
   "cell_type": "code",
   "execution_count": 1,
   "metadata": {},
   "outputs": [],
   "source": [
    "%matplotlib inline\n",
    "\n",
    "import matplotlib.pyplot as plt\n",
    "import numpy as np\n",
    "import pandas as pd\n",
    "import seaborn as sns"
   ]
  },
  {
   "cell_type": "code",
   "execution_count": 2,
   "metadata": {},
   "outputs": [],
   "source": [
    "planets = pd.read_csv('data/planets.csv')"
   ]
  },
  {
   "cell_type": "markdown",
   "metadata": {},
   "source": [
    "## EDA"
   ]
  },
  {
   "cell_type": "code",
   "execution_count": 3,
   "metadata": {},
   "outputs": [
    {
     "data": {
      "text/html": [
       "<div>\n",
       "<style scoped>\n",
       "    .dataframe tbody tr th:only-of-type {\n",
       "        vertical-align: middle;\n",
       "    }\n",
       "\n",
       "    .dataframe tbody tr th {\n",
       "        vertical-align: top;\n",
       "    }\n",
       "\n",
       "    .dataframe thead th {\n",
       "        text-align: right;\n",
       "    }\n",
       "</style>\n",
       "<table border=\"1\" class=\"dataframe\">\n",
       "  <thead>\n",
       "    <tr style=\"text-align: right;\">\n",
       "      <th></th>\n",
       "      <th>period</th>\n",
       "      <th>name</th>\n",
       "      <th>eccentricity</th>\n",
       "      <th>description</th>\n",
       "      <th>discoverymethod</th>\n",
       "      <th>periastrontime</th>\n",
       "      <th>lastupdate</th>\n",
       "      <th>semimajoraxis</th>\n",
       "      <th>mass</th>\n",
       "      <th>periastron</th>\n",
       "      <th>list</th>\n",
       "      <th>discoveryyear</th>\n",
       "    </tr>\n",
       "  </thead>\n",
       "  <tbody>\n",
       "    <tr>\n",
       "      <th>0</th>\n",
       "      <td>326.03</td>\n",
       "      <td>11 Com b</td>\n",
       "      <td>0.231</td>\n",
       "      <td>11 Com b is a brown dwarf-mass companion to th...</td>\n",
       "      <td>RV</td>\n",
       "      <td>2452899.60</td>\n",
       "      <td>15/09/20</td>\n",
       "      <td>1.290</td>\n",
       "      <td>19.400</td>\n",
       "      <td>94.800</td>\n",
       "      <td>Confirmed planets</td>\n",
       "      <td>2008.0</td>\n",
       "    </tr>\n",
       "    <tr>\n",
       "      <th>1</th>\n",
       "      <td>516.22</td>\n",
       "      <td>11 UMi b</td>\n",
       "      <td>0.080</td>\n",
       "      <td>11 Ursae Minoris is a star located in the cons...</td>\n",
       "      <td>RV</td>\n",
       "      <td>2452861.04</td>\n",
       "      <td>15/09/20</td>\n",
       "      <td>1.540</td>\n",
       "      <td>11.200</td>\n",
       "      <td>117.630</td>\n",
       "      <td>Confirmed planets</td>\n",
       "      <td>2009.0</td>\n",
       "    </tr>\n",
       "    <tr>\n",
       "      <th>2</th>\n",
       "      <td>185.84</td>\n",
       "      <td>14 And b</td>\n",
       "      <td>0.000</td>\n",
       "      <td>14 Andromedae is an evolved star in the conste...</td>\n",
       "      <td>RV</td>\n",
       "      <td>2452861.40</td>\n",
       "      <td>15/09/20</td>\n",
       "      <td>0.830</td>\n",
       "      <td>4.800</td>\n",
       "      <td>0.000</td>\n",
       "      <td>Confirmed planets</td>\n",
       "      <td>2008.0</td>\n",
       "    </tr>\n",
       "    <tr>\n",
       "      <th>3</th>\n",
       "      <td>1766.00</td>\n",
       "      <td>14 Her b</td>\n",
       "      <td>0.359</td>\n",
       "      <td>The star 14 Herculis is only 59 light years aw...</td>\n",
       "      <td>RV</td>\n",
       "      <td>NaN</td>\n",
       "      <td>15/09/21</td>\n",
       "      <td>2.864</td>\n",
       "      <td>4.975</td>\n",
       "      <td>22.230</td>\n",
       "      <td>Confirmed planets</td>\n",
       "      <td>2002.0</td>\n",
       "    </tr>\n",
       "    <tr>\n",
       "      <th>4</th>\n",
       "      <td>9886.00</td>\n",
       "      <td>14 Her c</td>\n",
       "      <td>0.184</td>\n",
       "      <td>14 Her c is the second companion in the system...</td>\n",
       "      <td>RV</td>\n",
       "      <td>NaN</td>\n",
       "      <td>15/09/21</td>\n",
       "      <td>9.037</td>\n",
       "      <td>7.679</td>\n",
       "      <td>189.076</td>\n",
       "      <td>Controversial</td>\n",
       "      <td>2006.0</td>\n",
       "    </tr>\n",
       "  </tbody>\n",
       "</table>\n",
       "</div>"
      ],
      "text/plain": [
       "    period      name  eccentricity  \\\n",
       "0   326.03  11 Com b         0.231   \n",
       "1   516.22  11 UMi b         0.080   \n",
       "2   185.84  14 And b         0.000   \n",
       "3  1766.00  14 Her b         0.359   \n",
       "4  9886.00  14 Her c         0.184   \n",
       "\n",
       "                                         description discoverymethod  \\\n",
       "0  11 Com b is a brown dwarf-mass companion to th...              RV   \n",
       "1  11 Ursae Minoris is a star located in the cons...              RV   \n",
       "2  14 Andromedae is an evolved star in the conste...              RV   \n",
       "3  The star 14 Herculis is only 59 light years aw...              RV   \n",
       "4  14 Her c is the second companion in the system...              RV   \n",
       "\n",
       "   periastrontime lastupdate  semimajoraxis    mass  periastron  \\\n",
       "0      2452899.60   15/09/20          1.290  19.400      94.800   \n",
       "1      2452861.04   15/09/20          1.540  11.200     117.630   \n",
       "2      2452861.40   15/09/20          0.830   4.800       0.000   \n",
       "3             NaN   15/09/21          2.864   4.975      22.230   \n",
       "4             NaN   15/09/21          9.037   7.679     189.076   \n",
       "\n",
       "                list  discoveryyear  \n",
       "0  Confirmed planets         2008.0  \n",
       "1  Confirmed planets         2009.0  \n",
       "2  Confirmed planets         2008.0  \n",
       "3  Confirmed planets         2002.0  \n",
       "4      Controversial         2006.0  "
      ]
     },
     "execution_count": 3,
     "metadata": {},
     "output_type": "execute_result"
    }
   ],
   "source": [
    "planets.head()"
   ]
  },
  {
   "cell_type": "markdown",
   "metadata": {},
   "source": [
    "### Looking at Orbit shape\n",
    "(0, 1) is elliptical, 0 is perfect circle"
   ]
  },
  {
   "cell_type": "code",
   "execution_count": 4,
   "metadata": {},
   "outputs": [
    {
     "data": {
      "text/plain": [
       "<matplotlib.axes._subplots.AxesSubplot at 0x18f36910>"
      ]
     },
     "execution_count": 4,
     "metadata": {},
     "output_type": "execute_result"
    },
    {
     "data": {
      "image/png": "[encoded data removed]",
      "text/plain": [
       "<Figure size 432x288 with 1 Axes>"
      ]
     },
     "metadata": {
      "needs_background": "light"
     },
     "output_type": "display_data"
    }
   ],
   "source": [
    "planets.eccentricity.hist()"
   ]
  },
  {
   "cell_type": "code",
   "execution_count": 5,
   "metadata": {},
   "outputs": [
    {
     "data": {
      "text/plain": [
       "(0.0, 0.956)"
      ]
     },
     "execution_count": 5,
     "metadata": {},
     "output_type": "execute_result"
    }
   ],
   "source": [
    "planets.eccentricity.min(), planets.eccentricity.max()"
   ]
  },
  {
   "cell_type": "markdown",
   "metadata": {},
   "source": [
    "### Understanding the semi-major axis\n",
    "An ellipse, being an elongated circle has 2 axes: **major** and **minor** for the longest and smallest ones, respectively. The *semi*-major axis is half the major axis. When compared to a circle, the axes are like the diameter crossing the entire shape and the semis are akin to the radius being half the diameter."
   ]
  },
  {
   "cell_type": "code",
   "execution_count": 6,
   "metadata": {},
   "outputs": [
    {
     "data": {
      "text/plain": [
       "<matplotlib.legend.Legend at 0x1a02d630>"
      ]
     },
     "execution_count": 6,
     "metadata": {},
     "output_type": "execute_result"
    },
    {
     "data": {
      "image/png": "[encoded data removed]",
      "text/plain": [
       "<Figure size 432x288 with 1 Axes>"
      ]
     },
     "metadata": {
      "needs_background": "light"
     },
     "output_type": "display_data"
    }
   ],
   "source": [
    "from matplotlib.patches import Ellipse\n",
    "\n",
    "fig, axes = plt.subplots(1, 1)\n",
    "orbit = Ellipse(xy=(0, 0), width=2, height=1.5, facecolor='lightblue')\n",
    "axes.add_artist(orbit)\n",
    "axes.plot([-1, 0], [0, 0])\n",
    "axes.annotate(\n",
    "    'semi-major axis', \n",
    "    xy=(-0.5, 0), \n",
    "    xytext=(-0.8, -0.2), \n",
    "    arrowprops=dict(arrowstyle='wedge')\n",
    ")\n",
    "axes.annotate(\n",
    "    'orbit center', \n",
    "    xy=(0, 0), \n",
    "    xytext=(-0.21, 0.115), \n",
    "    arrowprops=dict(arrowstyle='wedge')\n",
    ")\n",
    "plt.plot(\n",
    "    [-.75], [0.5], \n",
    "    marker='o', markersize=4, \n",
    "    color=\"green\", label='planet'\n",
    ")\n",
    "plt.plot(\n",
    "    [0], [0], \n",
    "    marker='o', markersize=10, \n",
    "    color=\"orange\", label='star'\n",
    ")\n",
    "plt.xlim(-1.25, 1.25)\n",
    "plt.ylim(-1.25, 1.25)\n",
    "plt.legend()"
   ]
  },
  {
   "cell_type": "markdown",
   "metadata": {},
   "source": [
    "### Checking data values"
   ]
  },
  {
   "cell_type": "code",
   "execution_count": 7,
   "metadata": {},
   "outputs": [
    {
     "name": "stdout",
     "output_type": "stream",
     "text": [
      "<class 'pandas.core.frame.DataFrame'>\n",
      "RangeIndex: 3814 entries, 0 to 3813\n",
      "Data columns (total 4 columns):\n",
      "period           3684 non-null float64\n",
      "eccentricity     1172 non-null float64\n",
      "semimajoraxis    1456 non-null float64\n",
      "mass             1417 non-null float64\n",
      "dtypes: float64(4)\n",
      "memory usage: 119.2 KB\n"
     ]
    }
   ],
   "source": [
    "planets[['period', 'eccentricity', 'semimajoraxis', 'mass']].info()"
   ]
  },
  {
   "cell_type": "code",
   "execution_count": 8,
   "metadata": {},
   "outputs": [
    {
     "data": {
      "text/plain": [
       "(1044, 4)"
      ]
     },
     "execution_count": 8,
     "metadata": {},
     "output_type": "execute_result"
    }
   ],
   "source": [
    "planets[['period', 'eccentricity', 'semimajoraxis', 'mass']].dropna().shape"
   ]
  },
  {
   "cell_type": "code",
   "execution_count": 9,
   "metadata": {},
   "outputs": [
    {
     "data": {
      "text/html": [
       "<div>\n",
       "<style scoped>\n",
       "    .dataframe tbody tr th:only-of-type {\n",
       "        vertical-align: middle;\n",
       "    }\n",
       "\n",
       "    .dataframe tbody tr th {\n",
       "        vertical-align: top;\n",
       "    }\n",
       "\n",
       "    .dataframe thead th {\n",
       "        text-align: right;\n",
       "    }\n",
       "</style>\n",
       "<table border=\"1\" class=\"dataframe\">\n",
       "  <thead>\n",
       "    <tr style=\"text-align: right;\">\n",
       "      <th></th>\n",
       "      <th>period</th>\n",
       "      <th>eccentricity</th>\n",
       "      <th>semimajoraxis</th>\n",
       "      <th>mass</th>\n",
       "    </tr>\n",
       "  </thead>\n",
       "  <tbody>\n",
       "    <tr>\n",
       "      <th>count</th>\n",
       "      <td>3684.000000</td>\n",
       "      <td>1172.000000</td>\n",
       "      <td>1456.000000</td>\n",
       "      <td>1417.000000</td>\n",
       "    </tr>\n",
       "    <tr>\n",
       "      <th>mean</th>\n",
       "      <td>517.715911</td>\n",
       "      <td>0.168518</td>\n",
       "      <td>1.610329</td>\n",
       "      <td>2.837145</td>\n",
       "    </tr>\n",
       "    <tr>\n",
       "      <th>std</th>\n",
       "      <td>7284.863699</td>\n",
       "      <td>0.190131</td>\n",
       "      <td>8.282760</td>\n",
       "      <td>9.043661</td>\n",
       "    </tr>\n",
       "    <tr>\n",
       "      <th>min</th>\n",
       "      <td>0.090706</td>\n",
       "      <td>0.000000</td>\n",
       "      <td>0.004420</td>\n",
       "      <td>0.000008</td>\n",
       "    </tr>\n",
       "    <tr>\n",
       "      <th>25%</th>\n",
       "      <td>4.725905</td>\n",
       "      <td>0.020000</td>\n",
       "      <td>0.052530</td>\n",
       "      <td>0.141600</td>\n",
       "    </tr>\n",
       "    <tr>\n",
       "      <th>50%</th>\n",
       "      <td>12.878744</td>\n",
       "      <td>0.109000</td>\n",
       "      <td>0.163518</td>\n",
       "      <td>0.914000</td>\n",
       "    </tr>\n",
       "    <tr>\n",
       "      <th>75%</th>\n",
       "      <td>48.350875</td>\n",
       "      <td>0.250000</td>\n",
       "      <td>1.250000</td>\n",
       "      <td>2.540000</td>\n",
       "    </tr>\n",
       "    <tr>\n",
       "      <th>max</th>\n",
       "      <td>320000.000000</td>\n",
       "      <td>0.956000</td>\n",
       "      <td>177.000000</td>\n",
       "      <td>263.000000</td>\n",
       "    </tr>\n",
       "  </tbody>\n",
       "</table>\n",
       "</div>"
      ],
      "text/plain": [
       "              period  eccentricity  semimajoraxis         mass\n",
       "count    3684.000000   1172.000000    1456.000000  1417.000000\n",
       "mean      517.715911      0.168518       1.610329     2.837145\n",
       "std      7284.863699      0.190131       8.282760     9.043661\n",
       "min         0.090706      0.000000       0.004420     0.000008\n",
       "25%         4.725905      0.020000       0.052530     0.141600\n",
       "50%        12.878744      0.109000       0.163518     0.914000\n",
       "75%        48.350875      0.250000       1.250000     2.540000\n",
       "max    320000.000000      0.956000     177.000000   263.000000"
      ]
     },
     "execution_count": 9,
     "metadata": {},
     "output_type": "execute_result"
    }
   ],
   "source": [
    "planets[['period', 'eccentricity', 'semimajoraxis', 'mass']].describe()"
   ]
  },
  {
   "cell_type": "markdown",
   "metadata": {},
   "source": [
    "### Visualizing Year and Orbit Length"
   ]
  },
  {
   "cell_type": "code",
   "execution_count": 10,
   "metadata": {},
   "outputs": [
    {
     "data": {
      "text/plain": [
       "<matplotlib.axes._subplots.AxesSubplot at 0x1a092110>"
      ]
     },
     "execution_count": 10,
     "metadata": {},
     "output_type": "execute_result"
    },
    {
     "data": {
      "image/png": "[encoded data removed]",
      "text/plain": [
       "<Figure size 432x288 with 1 Axes>"
      ]
     },
     "metadata": {
      "needs_background": "light"
     },
     "output_type": "display_data"
    }
   ],
   "source": [
    "# are these planets controversial because they are so far away?\n",
    "sns.scatterplot(planets.semimajoraxis, planets.period, hue=planets.list)"
   ]
  },
  {
   "cell_type": "code",
   "execution_count": 11,
   "metadata": {},
   "outputs": [
    {
     "data": {
      "text/plain": [
       "Text(0.5, 1.0, 'log(orbital period) vs. semi-major axis')"
      ]
     },
     "execution_count": 11,
     "metadata": {},
     "output_type": "execute_result"
    },
    {
     "data": {
      "image/png": "[encoded data removed]",
      "text/plain": [
       "<Figure size 720x720 with 1 Axes>"
      ]
     },
     "metadata": {
      "needs_background": "light"
     },
     "output_type": "display_data"
    }
   ],
   "source": [
    "fig, axes = plt.subplots(1, 1, figsize=(10, 10))\n",
    "in_solar_system = (planets.list == 'Solar System').rename('in solar system?')\n",
    "ax = sns.scatterplot(\n",
    "    planets.semimajoraxis, \n",
    "    planets.period, \n",
    "    hue=in_solar_system,\n",
    "    ax=axes\n",
    ")\n",
    "ax.set_yscale('log')\n",
    "solar_system = planets[planets.list == 'Solar System']\n",
    "for planet in solar_system.name:\n",
    "    data = solar_system.query(f'name == \"{planet}\"')\n",
    "    ax.annotate(\n",
    "        planet, \n",
    "        (data.semimajoraxis, data.period), \n",
    "        (7 + data.semimajoraxis, data.period),\n",
    "        arrowprops=dict(arrowstyle='->')\n",
    "    )\n",
    "ax.set_title('log(orbital period) vs. semi-major axis')"
   ]
  },
  {
   "cell_type": "markdown",
   "metadata": {},
   "source": [
    "## Finding Similar Planets with KMeans Clustering"
   ]
  },
  {
   "cell_type": "code",
   "execution_count": 12,
   "metadata": {},
   "outputs": [],
   "source": [
    "from sklearn.cluster import KMeans\n",
    "from sklearn.compose import ColumnTransformer\n",
    "from sklearn.pipeline import Pipeline\n",
    "from sklearn.preprocessing import StandardScaler\n",
    "\n",
    "kmeans_pipeline = Pipeline(\n",
    "    [\n",
    "        ('scale', StandardScaler()), \n",
    "        ('kmeans', KMeans(8, random_state=0))\n",
    "    ]\n",
    ")"
   ]
  },
  {
   "cell_type": "code",
   "execution_count": 13,
   "metadata": {},
   "outputs": [
    {
     "data": {
      "text/plain": [
       "Pipeline(memory=None,\n",
       "     steps=[('scale', StandardScaler(copy=True, with_mean=True, with_std=True)), ('kmeans', KMeans(algorithm='auto', copy_x=True, init='k-means++', max_iter=300,\n",
       "    n_clusters=8, n_init=10, n_jobs=None, precompute_distances='auto',\n",
       "    random_state=0, tol=0.0001, verbose=0))])"
      ]
     },
     "execution_count": 13,
     "metadata": {},
     "output_type": "execute_result"
    }
   ],
   "source": [
    "kmeans_data = planets[\n",
    "    ['semimajoraxis', 'period']\n",
    "].dropna()\n",
    "kmeans_pipeline.fit(kmeans_data)"
   ]
  },
  {
   "cell_type": "code",
   "execution_count": 14,
   "metadata": {},
   "outputs": [
    {
     "data": {
      "text/plain": [
       "Text(0.5, 1.0, 'KMeans Clusters')"
      ]
     },
     "execution_count": 14,
     "metadata": {},
     "output_type": "execute_result"
    },
    {
     "data": {
      "image/png": "[encoded data removed]",
      "text/plain": [
       "<Figure size 504x504 with 1 Axes>"
      ]
     },
     "metadata": {
      "needs_background": "light"
     },
     "output_type": "display_data"
    }
   ],
   "source": [
    "fig, axes = plt.subplots(1, 1, figsize=(7, 7))\n",
    "ax = sns.scatterplot(\n",
    "    kmeans_data.semimajoraxis, \n",
    "    kmeans_data.period, \n",
    "    hue=kmeans_pipeline.predict(kmeans_data),\n",
    "    ax=axes, palette=\"Accent\"\n",
    ")\n",
    "ax.set_yscale('log')\n",
    "solar_system = planets[planets.list == 'Solar System']\n",
    "for planet in solar_system.name:\n",
    "    data = solar_system.query(f'name == \"{planet}\"')\n",
    "    ax.annotate(\n",
    "        planet, \n",
    "        (data.semimajoraxis, data.period), \n",
    "        (7 + data.semimajoraxis, data.period),\n",
    "        arrowprops=dict(arrowstyle='->')\n",
    "    )\n",
    "ax.get_legend().remove()\n",
    "ax.set_title('KMeans Clusters')"
   ]
  },
  {
   "cell_type": "code",
   "execution_count": 15,
   "metadata": {},
   "outputs": [],
   "source": [
    "import matplotlib.pyplot as plt\n",
    "\n",
    "def elbow_point(\n",
    "    data, pipeline, kmeans_step_name='kmeans', k_range=range(1, 11)\n",
    "):\n",
    "    \"\"\"Graph the elbow point to find the optimal k for clustering\"\"\"\n",
    "    scores = []\n",
    "    for k in k_range:\n",
    "        pipeline.named_steps[kmeans_step_name].n_clusters = k\n",
    "        pipeline.fit(data)\n",
    "        scores.append(pipeline.score(data) * -1)\n",
    "\n",
    "    fig = plt.figure()\n",
    "    plt.plot(k_range, scores, 'bo-')\n",
    "    plt.xlabel('k')\n",
    "    plt.ylabel('value of data on objective function')\n",
    "    plt.suptitle('Elbow Point Plot')\n",
    "    plt.close()\n",
    "\n",
    "    return fig"
   ]
  },
  {
   "cell_type": "code",
   "execution_count": 16,
   "metadata": {},
   "outputs": [
    {
     "data": {
      "image/png": "[encoded data removed]",
      "text/plain": [
       "<Figure size 432x288 with 1 Axes>"
      ]
     },
     "execution_count": 16,
     "metadata": {},
     "output_type": "execute_result"
    }
   ],
   "source": [
    "elbow_point(\n",
    "    kmeans_data, \n",
    "    Pipeline(\n",
    "    [\n",
    "        ('scale', StandardScaler()), \n",
    "        ('kmeans', KMeans(random_state=0))\n",
    "    ]\n",
    "))"
   ]
  },
  {
   "cell_type": "markdown",
   "metadata": {},
   "source": [
    "KMeans with the \"optimal\" k of 2"
   ]
  },
  {
   "cell_type": "code",
   "execution_count": 17,
   "metadata": {},
   "outputs": [
    {
     "data": {
      "text/plain": [
       "Text(0.5, 1.0, 'KMeans Clusters')"
      ]
     },
     "execution_count": 17,
     "metadata": {},
     "output_type": "execute_result"
    },
    {
     "data": {
      "image/png": "[encoded data removed]",
      "text/plain": [
       "<Figure size 504x504 with 1 Axes>"
      ]
     },
     "metadata": {
      "needs_background": "light"
     },
     "output_type": "display_data"
    }
   ],
   "source": [
    "kmeans_pipeline_2 = Pipeline(\n",
    "    [\n",
    "        ('scale', StandardScaler()), \n",
    "        ('kmeans', KMeans(2, random_state=0))\n",
    "    ]\n",
    ").fit(kmeans_data)\n",
    "fig, axes = plt.subplots(1, 1, figsize=(7, 7))\n",
    "ax = sns.scatterplot(\n",
    "    kmeans_data.semimajoraxis, \n",
    "    kmeans_data.period, \n",
    "    hue=kmeans_pipeline_2.predict(kmeans_data),\n",
    "    ax=axes, palette=\"Accent\"\n",
    ")\n",
    "ax.set_yscale('log')\n",
    "solar_system = planets[planets.list == 'Solar System']\n",
    "for planet in solar_system.name:\n",
    "    data = solar_system.query(f'name == \"{planet}\"')\n",
    "    ax.annotate(\n",
    "        planet, \n",
    "        (data.semimajoraxis, data.period), \n",
    "        (7 + data.semimajoraxis, data.period),\n",
    "        arrowprops=dict(arrowstyle='->')\n",
    "    )\n",
    "ax.get_legend().remove()\n",
    "ax.set_title('KMeans Clusters')"
   ]
  },
  {
   "cell_type": "markdown",
   "metadata": {},
   "source": [
    "### Visualizing the cluster space"
   ]
  },
  {
   "cell_type": "code",
   "execution_count": 18,
   "metadata": {},
   "outputs": [
    {
     "data": {
      "text/plain": [
       "array([[-0.03757155, -0.04116566],\n",
       "       [17.84648778, 19.55368709]])"
      ]
     },
     "execution_count": 18,
     "metadata": {},
     "output_type": "execute_result"
    }
   ],
   "source": [
    "kmeans_pipeline_2.named_steps['kmeans'].cluster_centers_"
   ]
  },
  {
   "cell_type": "code",
   "execution_count": 19,
   "metadata": {},
   "outputs": [
    {
     "data": {
      "text/plain": [
       "Text(0.5, 1.0, 'KMeans Cluster Space')"
      ]
     },
     "execution_count": 19,
     "metadata": {},
     "output_type": "execute_result"
    },
    {
     "data": {
      "image/png": "[encoded data removed]",
      "text/plain": [
       "<Figure size 216x216 with 1 Axes>"
      ]
     },
     "metadata": {
      "needs_background": "light"
     },
     "output_type": "display_data"
    }
   ],
   "source": [
    "fig, axes = plt.subplots(1, 1, figsize=(3, 3))\n",
    "transformed = kmeans_pipeline_2.fit_transform(kmeans_data).flatten()\n",
    "ax = sns.scatterplot(\n",
    "    transformed[::2],\n",
    "    transformed[1::2], \n",
    "    hue=kmeans_pipeline_2.predict(kmeans_data),\n",
    "    ax=axes, palette=\"Accent\"\n",
    ")\n",
    "ax.set_xlabel('semimajoraxis (normalized)')\n",
    "ax.set_ylabel('period (transformed)')\n",
    "ax.get_legend().remove()\n",
    "ax.set_title('KMeans Cluster Space')"
   ]
  },
  {
   "cell_type": "markdown",
   "metadata": {},
   "source": [
    "#### Evaluation of model"
   ]
  },
  {
   "cell_type": "code",
   "execution_count": 20,
   "metadata": {},
   "outputs": [
    {
     "name": "stderr",
     "output_type": "stream",
     "text": [
      "c:\\users\\stefanie\\hands_on_pandas\\venv\\lib\\site-packages\\sklearn\\metrics\\cluster\\unsupervised.py:342: RuntimeWarning: divide by zero encountered in true_divide\n",
      "  score = (intra_dists[:, None] + intra_dists) / centroid_distances\n",
      "c:\\users\\stefanie\\hands_on_pandas\\venv\\lib\\site-packages\\sklearn\\metrics\\cluster\\unsupervised.py:342: RuntimeWarning: invalid value encountered in true_divide\n",
      "  score = (intra_dists[:, None] + intra_dists) / centroid_distances\n"
     ]
    },
    {
     "data": {
      "text/plain": [
       "0.4432430729371101"
      ]
     },
     "execution_count": 20,
     "metadata": {},
     "output_type": "execute_result"
    }
   ],
   "source": [
    "from sklearn.metrics import davies_bouldin_score\n",
    "\n",
    "# true labels not known\n",
    "# ratio of within-cluster distances to between-cluster distances\n",
    "# zero is best parition \n",
    "davies_bouldin_score(kmeans_data, kmeans_pipeline.predict(kmeans_data)) "
   ]
  },
  {
   "cell_type": "code",
   "execution_count": 21,
   "metadata": {},
   "outputs": [
    {
     "data": {
      "text/plain": [
       "0.756431346264896"
      ]
     },
     "execution_count": 21,
     "metadata": {},
     "output_type": "execute_result"
    }
   ],
   "source": [
    "from sklearn.metrics import silhouette_score\n",
    "\n",
    "# true labels not known\n",
    "# higher = better defined (more separated) clusters\n",
    "# -1 is worst, 1 is best, near 0 indicates overlapping clusters\n",
    "silhouette_score(kmeans_data, kmeans_pipeline.predict(kmeans_data)) "
   ]
  },
  {
   "cell_type": "code",
   "execution_count": 22,
   "metadata": {},
   "outputs": [
    {
     "data": {
      "text/plain": [
       "23153.731441632073"
      ]
     },
     "execution_count": 22,
     "metadata": {},
     "output_type": "execute_result"
    }
   ],
   "source": [
    "from sklearn.metrics import calinski_harabaz_score\n",
    "\n",
    "# true labels not known\n",
    "# higher = better defined (more separated) clusters\n",
    "calinski_harabaz_score(kmeans_data, kmeans_pipeline.predict(kmeans_data)) "
   ]
  },
  {
   "cell_type": "markdown",
   "metadata": {},
   "source": [
    "## Predicting Length of Year (Period)"
   ]
  },
  {
   "cell_type": "code",
   "execution_count": 23,
   "metadata": {},
   "outputs": [],
   "source": [
    "from sklearn.model_selection import train_test_split\n",
    "from sklearn.linear_model import LinearRegression\n",
    "\n",
    "data = planets[\n",
    "    ['semimajoraxis', 'period', 'mass', 'eccentricity']\n",
    "].dropna()\n",
    "X = data[['semimajoraxis', 'mass', 'eccentricity']]\n",
    "y = data.period\n",
    "\n",
    "X_train, X_test, y_train, y_test = train_test_split(\n",
    "    X, y, test_size=0.25, random_state=0\n",
    ")"
   ]
  },
  {
   "cell_type": "markdown",
   "metadata": {},
   "source": [
    "### Linear Regression"
   ]
  },
  {
   "cell_type": "code",
   "execution_count": 24,
   "metadata": {},
   "outputs": [],
   "source": [
    "lm = LinearRegression().fit(X_train, y_train)"
   ]
  },
  {
   "cell_type": "markdown",
   "metadata": {},
   "source": [
    "### Get equation"
   ]
  },
  {
   "cell_type": "code",
   "execution_count": 25,
   "metadata": {},
   "outputs": [
    {
     "data": {
      "text/plain": [
       "-1016.9414328876608"
      ]
     },
     "execution_count": 25,
     "metadata": {},
     "output_type": "execute_result"
    }
   ],
   "source": [
    "# get intercept\n",
    "lm.intercept_"
   ]
  },
  {
   "cell_type": "code",
   "execution_count": 26,
   "metadata": {},
   "outputs": [
    {
     "data": {
      "text/plain": [
       "[('semimajoraxis', 2089.7990582230304),\n",
       " ('mass', -11.450731945992032),\n",
       " ('eccentricity', -4000.9101385815848)]"
      ]
     },
     "execution_count": 26,
     "metadata": {},
     "output_type": "execute_result"
    }
   ],
   "source": [
    "# get coefficients\n",
    "[(col, coef) for col, coef in zip(X_train.columns, lm.coef_)]"
   ]
  },
  {
   "cell_type": "markdown",
   "metadata": {},
   "source": [
    "#### Evaluation of model"
   ]
  },
  {
   "cell_type": "code",
   "execution_count": 27,
   "metadata": {},
   "outputs": [
    {
     "data": {
      "text/plain": [
       "0.9766538595075525"
      ]
     },
     "execution_count": 27,
     "metadata": {},
     "output_type": "execute_result"
    }
   ],
   "source": [
    "preds = lm.predict(X_test)\n",
    "np.corrcoef(y_test, preds)[0][1]"
   ]
  },
  {
   "cell_type": "code",
   "execution_count": 28,
   "metadata": {},
   "outputs": [
    {
     "data": {
      "text/plain": [
       "Text(0.5, 0.98, 'Linear Regression')"
      ]
     },
     "execution_count": 28,
     "metadata": {},
     "output_type": "execute_result"
    },
    {
     "data": {
      "image/png": "[encoded data removed]",
      "text/plain": [
       "<Figure size 360x216 with 1 Axes>"
      ]
     },
     "metadata": {
      "needs_background": "light"
     },
     "output_type": "display_data"
    }
   ],
   "source": [
    "fig, axes = plt.subplots(1, 1, figsize=(5, 3))\n",
    "axes.plot(X_test.semimajoraxis, y_test, 'bo', label='actuals', alpha=0.5)\n",
    "axes.plot(X_test.semimajoraxis, preds, 'ro', label='predictions', alpha=0.5)\n",
    "plt.xlabel('semimajoraxis')\n",
    "plt.ylabel('period')\n",
    "plt.legend()\n",
    "plt.suptitle('Linear Regression')"
   ]
  },
  {
   "cell_type": "code",
   "execution_count": 29,
   "metadata": {},
   "outputs": [
    {
     "data": {
      "text/plain": [
       "0.9297571053513579"
      ]
     },
     "execution_count": 29,
     "metadata": {},
     "output_type": "execute_result"
    }
   ],
   "source": [
    "lm.score(X_test, y_test)"
   ]
  },
  {
   "cell_type": "code",
   "execution_count": 30,
   "metadata": {},
   "outputs": [
    {
     "data": {
      "text/plain": [
       "0.9297571053513579"
      ]
     },
     "execution_count": 30,
     "metadata": {},
     "output_type": "execute_result"
    }
   ],
   "source": [
    "from sklearn.metrics import r2_score\n",
    "r2_score(y_test, preds)"
   ]
  },
  {
   "cell_type": "code",
   "execution_count": 31,
   "metadata": {},
   "outputs": [
    {
     "data": {
      "text/plain": [
       "0.9304626837290991"
      ]
     },
     "execution_count": 31,
     "metadata": {},
     "output_type": "execute_result"
    }
   ],
   "source": [
    "from sklearn.metrics import explained_variance_score\n",
    "explained_variance_score(y_test, preds)"
   ]
  },
  {
   "cell_type": "code",
   "execution_count": 32,
   "metadata": {},
   "outputs": [
    {
     "data": {
      "text/plain": [
       "1396.404208388504"
      ]
     },
     "execution_count": 32,
     "metadata": {},
     "output_type": "execute_result"
    }
   ],
   "source": [
    "from sklearn.metrics import mean_absolute_error\n",
    "mean_absolute_error(y_test, preds)"
   ]
  },
  {
   "cell_type": "code",
   "execution_count": 33,
   "metadata": {},
   "outputs": [
    {
     "data": {
      "text/plain": [
       "1777.2717945732813"
      ]
     },
     "execution_count": 33,
     "metadata": {},
     "output_type": "execute_result"
    }
   ],
   "source": [
    "from sklearn.metrics import mean_squared_error\n",
    "np.sqrt(mean_squared_error(y_test, preds))"
   ]
  },
  {
   "cell_type": "code",
   "execution_count": 34,
   "metadata": {},
   "outputs": [
    {
     "data": {
      "text/plain": [
       "1080.3627726120715"
      ]
     },
     "execution_count": 34,
     "metadata": {},
     "output_type": "execute_result"
    }
   ],
   "source": [
    "from sklearn.metrics import median_absolute_error\n",
    "median_absolute_error(y_test, preds)"
   ]
  },
  {
   "cell_type": "code",
   "execution_count": 35,
   "metadata": {},
   "outputs": [],
   "source": [
    "def plot_residuals(y_test, preds):\n",
    "    \"\"\"\n",
    "    Plot residuals to evaluate regression.\n",
    "\n",
    "    Parameters: \n",
    "        - y_test: The true values for y\n",
    "        - preds: The predicted values for y\n",
    "\n",
    "    Returns:\n",
    "        Subplots of residual scatter plot and \n",
    "        residual KDE plot.\n",
    "    \"\"\"\n",
    "    residuals = y_test - preds\n",
    "\n",
    "    fig, axes = plt.subplots(1, 2, figsize=(15, 3))\n",
    "    axes[0].scatter(np.arange(residuals.shape[0]), residuals)\n",
    "    residuals.plot(kind='kde', ax=axes[1])\n",
    "    plt.suptitle('Residuals')\n",
    "    return axes"
   ]
  },
  {
   "cell_type": "code",
   "execution_count": 36,
   "metadata": {},
   "outputs": [
    {
     "data": {
      "text/plain": [
       "array([<matplotlib.axes._subplots.AxesSubplot object at 0x1AC073F0>,\n",
       "       <matplotlib.axes._subplots.AxesSubplot object at 0x1AC2E090>],\n",
       "      dtype=object)"
      ]
     },
     "execution_count": 36,
     "metadata": {},
     "output_type": "execute_result"
    },
    {
     "data": {
      "image/png": "[encoded data removed]",
      "text/plain": [
       "<Figure size 1080x216 with 2 Axes>"
      ]
     },
     "metadata": {
      "needs_background": "light"
     },
     "output_type": "display_data"
    }
   ],
   "source": [
    "plot_residuals(y_test, preds)"
   ]
  }
 ],
 "metadata": {
  "kernelspec": {
   "display_name": "Python 3",
   "language": "python",
   "name": "python3"
  },
  "language_info": {
   "codemirror_mode": {
    "name": "ipython",
    "version": 3
   },
   "file_extension": ".py",
   "mimetype": "text/x-python",
   "name": "python",
   "nbconvert_exporter": "python",
   "pygments_lexer": "ipython3",
   "version": "3.6.4"
  }
 },
 "nbformat": 4,
 "nbformat_minor": 2
}
